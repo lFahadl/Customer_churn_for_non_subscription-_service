{
 "cells": [
  {
   "cell_type": "code",
   "execution_count": 1,
   "metadata": {
    "cell_id": "cd488a98ce364763a5e4e3d98e9076ed",
    "deepnote_app_coordinates": {
     "h": 5,
     "w": 12,
     "x": 0,
     "y": 1
    },
    "deepnote_cell_type": "code",
    "deepnote_to_be_reexecuted": false,
    "execution_millis": 2078,
    "execution_start": 1677998026767,
    "source_hash": "90fc8fda",
    "tags": []
   },
   "outputs": [],
   "source": [
    "import pandas as pd\n",
    "import numpy as np\n",
    "import math\n",
    "import matplotlib.pyplot as plt\n",
    "import seaborn as sns"
   ]
  },
  {
   "cell_type": "code",
   "execution_count": 2,
   "metadata": {
    "cell_id": "e2f1805a6f094d02a0afb135124b1890",
    "deepnote_app_coordinates": {
     "h": 5,
     "w": 12,
     "x": 0,
     "y": 7
    },
    "deepnote_cell_type": "code",
    "deepnote_to_be_reexecuted": false,
    "execution_millis": 9,
    "execution_start": 1677998028847,
    "source_hash": "1fec93f7",
    "tags": []
   },
   "outputs": [],
   "source": [
    "data_frame = pd.read_csv(r\"Advanced web dev Data - Sheet1.csv\")"
   ]
  },
  {
   "cell_type": "code",
   "execution_count": 16,
   "metadata": {
    "cell_id": "1a965f98ccd24cdea26dcca9e8a9cd31",
    "deepnote_app_coordinates": {
     "h": 5,
     "w": 12,
     "x": 0,
     "y": 13
    },
    "deepnote_cell_type": "code",
    "deepnote_table_loading": false,
    "deepnote_table_state": {
     "filters": [],
     "pageIndex": 0,
     "pageSize": 10,
     "sortBy": []
    },
    "deepnote_to_be_reexecuted": false,
    "execution_millis": 9,
    "execution_start": 1677998137158,
    "source_hash": "1bcc38c5",
    "tags": []
   },
   "outputs": [
    {
     "data": {
      "application/vnd.deepnote.dataframe.v3+json": {
       "column_count": 10,
       "columns": [
        {
         "dtype": "object",
         "name": "Names",
         "stats": {
          "categories": [
           {
            "count": 1,
            "name": "Mohtashim Ali"
           },
           {
            "count": 1,
            "name": "Muneeb"
           },
           {
            "count": 3,
            "name": "3 others"
           }
          ],
          "nan_count": 0,
          "unique_count": 5
         }
        },
        {
         "dtype": "float64",
         "name": "Duration (19 March)",
         "stats": {
          "histogram": [
           {
            "bin_end": 2.7920000000000003,
            "bin_start": 0,
            "count": 1
           },
           {
            "bin_end": 5.5840000000000005,
            "bin_start": 2.7920000000000003,
            "count": 0
           },
           {
            "bin_end": 8.376000000000001,
            "bin_start": 5.5840000000000005,
            "count": 0
           },
           {
            "bin_end": 11.168000000000001,
            "bin_start": 8.376000000000001,
            "count": 0
           },
           {
            "bin_end": 13.96,
            "bin_start": 11.168000000000001,
            "count": 0
           },
           {
            "bin_end": 16.752000000000002,
            "bin_start": 13.96,
            "count": 1
           },
           {
            "bin_end": 19.544,
            "bin_start": 16.752000000000002,
            "count": 0
           },
           {
            "bin_end": 22.336000000000002,
            "bin_start": 19.544,
            "count": 1
           },
           {
            "bin_end": 25.128000000000004,
            "bin_start": 22.336000000000002,
            "count": 0
           },
           {
            "bin_end": 27.92,
            "bin_start": 25.128000000000004,
            "count": 2
           }
          ],
          "max": "27.92",
          "min": "0.0",
          "nan_count": 0,
          "unique_count": 5
         }
        },
        {
         "dtype": "float64",
         "name": "Duration (20 March)",
         "stats": {
          "histogram": [
           {
            "bin_end": 11.235999999999999,
            "bin_start": 2.17,
            "count": 1
           },
           {
            "bin_end": 20.302,
            "bin_start": 11.235999999999999,
            "count": 1
           },
           {
            "bin_end": 29.367999999999995,
            "bin_start": 20.302,
            "count": 0
           },
           {
            "bin_end": 38.434,
            "bin_start": 29.367999999999995,
            "count": 0
           },
           {
            "bin_end": 47.5,
            "bin_start": 38.434,
            "count": 0
           },
           {
            "bin_end": 56.565999999999995,
            "bin_start": 47.5,
            "count": 0
           },
           {
            "bin_end": 65.63199999999999,
            "bin_start": 56.565999999999995,
            "count": 0
           },
           {
            "bin_end": 74.698,
            "bin_start": 65.63199999999999,
            "count": 0
           },
           {
            "bin_end": 83.764,
            "bin_start": 74.698,
            "count": 1
           },
           {
            "bin_end": 92.83,
            "bin_start": 83.764,
            "count": 2
           }
          ],
          "max": "92.83",
          "min": "2.17",
          "nan_count": 0,
          "unique_count": 5
         }
        },
        {
         "dtype": "float64",
         "name": "Duration (26 March)",
         "stats": {
          "histogram": [
           {
            "bin_end": 97.545,
            "bin_start": 95.27,
            "count": 2
           },
           {
            "bin_end": 99.82,
            "bin_start": 97.545,
            "count": 0
           },
           {
            "bin_end": 102.095,
            "bin_start": 99.82,
            "count": 0
           },
           {
            "bin_end": 104.36999999999999,
            "bin_start": 102.095,
            "count": 1
           },
           {
            "bin_end": 106.645,
            "bin_start": 104.36999999999999,
            "count": 0
           },
           {
            "bin_end": 108.91999999999999,
            "bin_start": 106.645,
            "count": 0
           },
           {
            "bin_end": 111.195,
            "bin_start": 108.91999999999999,
            "count": 0
           },
           {
            "bin_end": 113.47,
            "bin_start": 111.195,
            "count": 0
           },
           {
            "bin_end": 115.74499999999999,
            "bin_start": 113.47,
            "count": 1
           },
           {
            "bin_end": 118.02,
            "bin_start": 115.74499999999999,
            "count": 1
           }
          ],
          "max": "118.02",
          "min": "95.27",
          "nan_count": 0,
          "unique_count": 5
         }
        },
        {
         "dtype": "float64",
         "name": "Duration (27 March)",
         "stats": {
          "histogram": [
           {
            "bin_end": 9.215,
            "bin_start": 0,
            "count": 1
           },
           {
            "bin_end": 18.43,
            "bin_start": 9.215,
            "count": 1
           },
           {
            "bin_end": 27.645,
            "bin_start": 18.43,
            "count": 0
           },
           {
            "bin_end": 36.86,
            "bin_start": 27.645,
            "count": 0
           },
           {
            "bin_end": 46.075,
            "bin_start": 36.86,
            "count": 0
           },
           {
            "bin_end": 55.29,
            "bin_start": 46.075,
            "count": 0
           },
           {
            "bin_end": 64.505,
            "bin_start": 55.29,
            "count": 0
           },
           {
            "bin_end": 73.72,
            "bin_start": 64.505,
            "count": 0
           },
           {
            "bin_end": 82.935,
            "bin_start": 73.72,
            "count": 1
           },
           {
            "bin_end": 92.15,
            "bin_start": 82.935,
            "count": 2
           }
          ],
          "max": "92.15",
          "min": "0.0",
          "nan_count": 0,
          "unique_count": 5
         }
        },
        {
         "dtype": "float64",
         "name": "Duration (2nd April)",
         "stats": {
          "histogram": [
           {
            "bin_end": 103.785,
            "bin_start": 102.58,
            "count": 1
           },
           {
            "bin_end": 104.99,
            "bin_start": 103.785,
            "count": 0
           },
           {
            "bin_end": 106.195,
            "bin_start": 104.99,
            "count": 0
           },
           {
            "bin_end": 107.39999999999999,
            "bin_start": 106.195,
            "count": 1
           },
           {
            "bin_end": 108.60499999999999,
            "bin_start": 107.39999999999999,
            "count": 0
           },
           {
            "bin_end": 109.81,
            "bin_start": 108.60499999999999,
            "count": 0
           },
           {
            "bin_end": 111.015,
            "bin_start": 109.81,
            "count": 0
           },
           {
            "bin_end": 112.22,
            "bin_start": 111.015,
            "count": 0
           },
           {
            "bin_end": 113.425,
            "bin_start": 112.22,
            "count": 2
           },
           {
            "bin_end": 114.63,
            "bin_start": 113.425,
            "count": 1
           }
          ],
          "max": "114.63",
          "min": "102.58",
          "nan_count": 0,
          "unique_count": 5
         }
        },
        {
         "dtype": "float64",
         "name": "Duration (3rd April)",
         "stats": {
          "histogram": [
           {
            "bin_end": 11.945,
            "bin_start": 0,
            "count": 1
           },
           {
            "bin_end": 23.89,
            "bin_start": 11.945,
            "count": 0
           },
           {
            "bin_end": 35.835,
            "bin_start": 23.89,
            "count": 0
           },
           {
            "bin_end": 47.78,
            "bin_start": 35.835,
            "count": 0
           },
           {
            "bin_end": 59.725,
            "bin_start": 47.78,
            "count": 0
           },
           {
            "bin_end": 71.67,
            "bin_start": 59.725,
            "count": 0
           },
           {
            "bin_end": 83.61500000000001,
            "bin_start": 71.67,
            "count": 0
           },
           {
            "bin_end": 95.56,
            "bin_start": 83.61500000000001,
            "count": 1
           },
           {
            "bin_end": 107.505,
            "bin_start": 95.56,
            "count": 0
           },
           {
            "bin_end": 119.45,
            "bin_start": 107.505,
            "count": 3
           }
          ],
          "max": "119.45",
          "min": "0.0",
          "nan_count": 0,
          "unique_count": 5
         }
        },
        {
         "dtype": "float64",
         "name": "Duration (9th April)",
         "stats": {
          "histogram": [
           {
            "bin_end": 52.688,
            "bin_start": 45.95,
            "count": 1
           },
           {
            "bin_end": 59.426,
            "bin_start": 52.688,
            "count": 0
           },
           {
            "bin_end": 66.164,
            "bin_start": 59.426,
            "count": 0
           },
           {
            "bin_end": 72.902,
            "bin_start": 66.164,
            "count": 0
           },
           {
            "bin_end": 79.64,
            "bin_start": 72.902,
            "count": 0
           },
           {
            "bin_end": 86.378,
            "bin_start": 79.64,
            "count": 0
           },
           {
            "bin_end": 93.116,
            "bin_start": 86.378,
            "count": 0
           },
           {
            "bin_end": 99.854,
            "bin_start": 93.116,
            "count": 0
           },
           {
            "bin_end": 106.592,
            "bin_start": 99.854,
            "count": 0
           },
           {
            "bin_end": 113.33,
            "bin_start": 106.592,
            "count": 4
           }
          ],
          "max": "113.33",
          "min": "45.95",
          "nan_count": 0,
          "unique_count": 5
         }
        },
        {
         "dtype": "float64",
         "name": "Duration (10th April)",
         "stats": {
          "histogram": [
           {
            "bin_end": 86.19300000000001,
            "bin_start": 83.15,
            "count": 1
           },
           {
            "bin_end": 89.236,
            "bin_start": 86.19300000000001,
            "count": 0
           },
           {
            "bin_end": 92.279,
            "bin_start": 89.236,
            "count": 0
           },
           {
            "bin_end": 95.322,
            "bin_start": 92.279,
            "count": 1
           },
           {
            "bin_end": 98.36500000000001,
            "bin_start": 95.322,
            "count": 0
           },
           {
            "bin_end": 101.408,
            "bin_start": 98.36500000000001,
            "count": 0
           },
           {
            "bin_end": 104.451,
            "bin_start": 101.408,
            "count": 1
           },
           {
            "bin_end": 107.494,
            "bin_start": 104.451,
            "count": 0
           },
           {
            "bin_end": 110.537,
            "bin_start": 107.494,
            "count": 0
           },
           {
            "bin_end": 113.58,
            "bin_start": 110.537,
            "count": 2
           }
          ],
          "max": "113.58",
          "min": "83.15",
          "nan_count": 0,
          "unique_count": 5
         }
        },
        {
         "dtype": "float64",
         "name": "Duration (17th April)",
         "stats": {
          "histogram": [
           {
            "bin_end": 11.792,
            "bin_start": 0,
            "count": 1
           },
           {
            "bin_end": 23.584,
            "bin_start": 11.792,
            "count": 0
           },
           {
            "bin_end": 35.376,
            "bin_start": 23.584,
            "count": 0
           },
           {
            "bin_end": 47.168,
            "bin_start": 35.376,
            "count": 0
           },
           {
            "bin_end": 58.96,
            "bin_start": 47.168,
            "count": 0
           },
           {
            "bin_end": 70.752,
            "bin_start": 58.96,
            "count": 0
           },
           {
            "bin_end": 82.544,
            "bin_start": 70.752,
            "count": 0
           },
           {
            "bin_end": 94.336,
            "bin_start": 82.544,
            "count": 0
           },
           {
            "bin_end": 106.128,
            "bin_start": 94.336,
            "count": 1
           },
           {
            "bin_end": 117.92,
            "bin_start": 106.128,
            "count": 3
           }
          ],
          "max": "117.92",
          "min": "0.0",
          "nan_count": 0,
          "unique_count": 5
         }
        },
        {
         "dtype": "int64",
         "name": "_deepnote_index_column"
        }
       ],
       "row_count": 5,
       "rows": [
        {
         "Duration (10th April)": "111.65",
         "Duration (17th April)": "116.53",
         "Duration (19 March)": "27.92",
         "Duration (20 March)": "16.33",
         "Duration (26 March)": "97.27",
         "Duration (27 March)": "0.0",
         "Duration (2nd April)": "113.32",
         "Duration (3rd April)": "109.87",
         "Duration (9th April)": "112.93",
         "Names": "Mohtashim Ali",
         "_deepnote_index_column": "0"
        },
        {
         "Duration (10th April)": "103.17",
         "Duration (17th April)": "109.92",
         "Duration (19 March)": "0.0",
         "Duration (20 March)": "79.53",
         "Duration (26 March)": "103.55",
         "Duration (27 March)": "77.3",
         "Duration (2nd April)": "102.58",
         "Duration (3rd April)": "0.0",
         "Duration (9th April)": "111.33",
         "Names": "Muneeb",
         "_deepnote_index_column": "1"
        },
        {
         "Duration (10th April)": "113.58",
         "Duration (17th April)": "117.92",
         "Duration (19 March)": "27.13",
         "Duration (20 March)": "92.83",
         "Duration (26 March)": "113.8",
         "Duration (27 March)": "92.15",
         "Duration (2nd April)": "114.63",
         "Duration (3rd April)": "119.45",
         "Duration (9th April)": "45.95",
         "Names": "Nasreen",
         "_deepnote_index_column": "2"
        },
        {
         "Duration (10th April)": "94.83",
         "Duration (17th April)": "94.92",
         "Duration (19 March)": "16.58",
         "Duration (20 March)": "2.17",
         "Duration (26 March)": "95.27",
         "Duration (27 March)": "10.83",
         "Duration (2nd April)": "106.5",
         "Duration (3rd April)": "94.5",
         "Duration (9th April)": "113.33",
         "Names": "Abdul Haseeb",
         "_deepnote_index_column": "3"
        },
        {
         "Duration (10th April)": "83.15",
         "Duration (17th April)": "0.0",
         "Duration (19 March)": "20.75",
         "Duration (20 March)": "86.95",
         "Duration (26 March)": "118.02",
         "Duration (27 March)": "91.15",
         "Duration (2nd April)": "112.37",
         "Duration (3rd April)": "107.67",
         "Duration (9th April)": "112.67",
         "Names": "Mohsin Najam",
         "_deepnote_index_column": "4"
        }
       ]
      },
      "text/html": [
       "<div>\n",
       "<style scoped>\n",
       "    .dataframe tbody tr th:only-of-type {\n",
       "        vertical-align: middle;\n",
       "    }\n",
       "\n",
       "    .dataframe tbody tr th {\n",
       "        vertical-align: top;\n",
       "    }\n",
       "\n",
       "    .dataframe thead th {\n",
       "        text-align: right;\n",
       "    }\n",
       "</style>\n",
       "<table border=\"1\" class=\"dataframe\">\n",
       "  <thead>\n",
       "    <tr style=\"text-align: right;\">\n",
       "      <th></th>\n",
       "      <th>Names</th>\n",
       "      <th>Duration (19 March)</th>\n",
       "      <th>Duration (20 March)</th>\n",
       "      <th>Duration (26 March)</th>\n",
       "      <th>Duration (27 March)</th>\n",
       "      <th>Duration (2nd April)</th>\n",
       "      <th>Duration (3rd April)</th>\n",
       "      <th>Duration (9th April)</th>\n",
       "      <th>Duration (10th April)</th>\n",
       "      <th>Duration (17th April)</th>\n",
       "    </tr>\n",
       "  </thead>\n",
       "  <tbody>\n",
       "    <tr>\n",
       "      <th>0</th>\n",
       "      <td>Mohtashim Ali</td>\n",
       "      <td>27.92</td>\n",
       "      <td>16.33</td>\n",
       "      <td>97.27</td>\n",
       "      <td>0.00</td>\n",
       "      <td>113.32</td>\n",
       "      <td>109.87</td>\n",
       "      <td>112.93</td>\n",
       "      <td>111.65</td>\n",
       "      <td>116.53</td>\n",
       "    </tr>\n",
       "    <tr>\n",
       "      <th>1</th>\n",
       "      <td>Muneeb</td>\n",
       "      <td>0.00</td>\n",
       "      <td>79.53</td>\n",
       "      <td>103.55</td>\n",
       "      <td>77.30</td>\n",
       "      <td>102.58</td>\n",
       "      <td>0.00</td>\n",
       "      <td>111.33</td>\n",
       "      <td>103.17</td>\n",
       "      <td>109.92</td>\n",
       "    </tr>\n",
       "    <tr>\n",
       "      <th>2</th>\n",
       "      <td>Nasreen</td>\n",
       "      <td>27.13</td>\n",
       "      <td>92.83</td>\n",
       "      <td>113.80</td>\n",
       "      <td>92.15</td>\n",
       "      <td>114.63</td>\n",
       "      <td>119.45</td>\n",
       "      <td>45.95</td>\n",
       "      <td>113.58</td>\n",
       "      <td>117.92</td>\n",
       "    </tr>\n",
       "    <tr>\n",
       "      <th>3</th>\n",
       "      <td>Abdul Haseeb</td>\n",
       "      <td>16.58</td>\n",
       "      <td>2.17</td>\n",
       "      <td>95.27</td>\n",
       "      <td>10.83</td>\n",
       "      <td>106.50</td>\n",
       "      <td>94.50</td>\n",
       "      <td>113.33</td>\n",
       "      <td>94.83</td>\n",
       "      <td>94.92</td>\n",
       "    </tr>\n",
       "    <tr>\n",
       "      <th>4</th>\n",
       "      <td>Mohsin Najam</td>\n",
       "      <td>20.75</td>\n",
       "      <td>86.95</td>\n",
       "      <td>118.02</td>\n",
       "      <td>91.15</td>\n",
       "      <td>112.37</td>\n",
       "      <td>107.67</td>\n",
       "      <td>112.67</td>\n",
       "      <td>83.15</td>\n",
       "      <td>0.00</td>\n",
       "    </tr>\n",
       "  </tbody>\n",
       "</table>\n",
       "</div>"
      ],
      "text/plain": [
       "           Names  Duration (19 March)  Duration (20 March)  \\\n",
       "0  Mohtashim Ali                27.92                16.33   \n",
       "1         Muneeb                 0.00                79.53   \n",
       "2        Nasreen                27.13                92.83   \n",
       "3   Abdul Haseeb                16.58                 2.17   \n",
       "4   Mohsin Najam                20.75                86.95   \n",
       "\n",
       "   Duration (26 March)  Duration (27 March)  Duration (2nd April)  \\\n",
       "0                97.27                 0.00                113.32   \n",
       "1               103.55                77.30                102.58   \n",
       "2               113.80                92.15                114.63   \n",
       "3                95.27                10.83                106.50   \n",
       "4               118.02                91.15                112.37   \n",
       "\n",
       "   Duration (3rd April)  Duration (9th April)  Duration (10th April)  \\\n",
       "0                109.87                112.93                 111.65   \n",
       "1                  0.00                111.33                 103.17   \n",
       "2                119.45                 45.95                 113.58   \n",
       "3                 94.50                113.33                  94.83   \n",
       "4                107.67                112.67                  83.15   \n",
       "\n",
       "   Duration (17th April)  \n",
       "0                 116.53  \n",
       "1                 109.92  \n",
       "2                 117.92  \n",
       "3                  94.92  \n",
       "4                   0.00  "
      ]
     },
     "execution_count": 16,
     "metadata": {},
     "output_type": "execute_result"
    }
   ],
   "source": [
    "data_frame.head()"
   ]
  },
  {
   "cell_type": "code",
   "execution_count": 4,
   "metadata": {
    "cell_id": "2769e00b2ca044539fe143ae669136ea",
    "deepnote_app_coordinates": {
     "h": 5,
     "w": 12,
     "x": 0,
     "y": 19
    },
    "deepnote_cell_type": "code",
    "deepnote_to_be_reexecuted": false,
    "execution_millis": 3,
    "execution_start": 1677998028934,
    "source_hash": "283751f9",
    "tags": []
   },
   "outputs": [
    {
     "data": {
      "text/plain": [
       "(29, 13)"
      ]
     },
     "execution_count": 4,
     "metadata": {},
     "output_type": "execute_result"
    }
   ],
   "source": [
    "data_frame.shape "
   ]
  },
  {
   "cell_type": "code",
   "execution_count": 5,
   "metadata": {
    "cell_id": "437accc7348c4d289a30ef0d33de6852",
    "deepnote_app_coordinates": {
     "h": 5,
     "w": 12,
     "x": 0,
     "y": 25
    },
    "deepnote_cell_type": "code",
    "deepnote_to_be_reexecuted": false,
    "execution_millis": 2,
    "execution_start": 1677998028981,
    "source_hash": "5ea8cfb8",
    "tags": []
   },
   "outputs": [
    {
     "name": "stdout",
     "output_type": "stream",
     "text": [
      "<class 'pandas.core.frame.DataFrame'>\n",
      "RangeIndex: 29 entries, 0 to 28\n",
      "Data columns (total 13 columns):\n",
      " #   Column                 Non-Null Count  Dtype  \n",
      "---  ------                 --------------  -----  \n",
      " 0   Names                  28 non-null     object \n",
      " 1   Phone no               22 non-null     object \n",
      " 2   STATUS                 20 non-null     object \n",
      " 3   User ID                28 non-null     object \n",
      " 4   Duration (19 March)    23 non-null     float64\n",
      " 5   Duration (20 March)    23 non-null     float64\n",
      " 6   Duration (26 March)    27 non-null     object \n",
      " 7   Duration (27 March)    28 non-null     float64\n",
      " 8   Duration (2nd April)   27 non-null     float64\n",
      " 9   Duration (3rd April)   28 non-null     float64\n",
      " 10  Duration (9th April)   28 non-null     float64\n",
      " 11  Duration (10th April)  28 non-null     float64\n",
      " 12  Duration (17th April)  28 non-null     float64\n",
      "dtypes: float64(8), object(5)\n",
      "memory usage: 3.1+ KB\n"
     ]
    }
   ],
   "source": [
    "data_frame.info()"
   ]
  },
  {
   "cell_type": "code",
   "execution_count": 6,
   "metadata": {
    "cell_id": "34eed1e0db5d47348194c88e1765104a",
    "deepnote_app_coordinates": {
     "h": 5,
     "w": 12,
     "x": 0,
     "y": 31
    },
    "deepnote_cell_type": "code",
    "deepnote_to_be_reexecuted": false,
    "execution_millis": 2,
    "execution_start": 1677998028982,
    "source_hash": "1bcc38c5",
    "tags": []
   },
   "outputs": [
    {
     "data": {
      "application/vnd.deepnote.dataframe.v3+json": {
       "column_count": 13,
       "columns": [
        {
         "dtype": "object",
         "name": "Names",
         "stats": {
          "categories": [
           {
            "count": 1,
            "name": "Mohtashim Ali"
           },
           {
            "count": 1,
            "name": "Muneeb"
           },
           {
            "count": 3,
            "name": "3 others"
           }
          ],
          "nan_count": 0,
          "unique_count": 5
         }
        },
        {
         "dtype": "object",
         "name": "Phone no",
         "stats": {
          "categories": [
           {
            "count": 1,
            "name": "3474692536"
           },
           {
            "count": 3,
            "name": "3 others"
           },
           {
            "count": 1,
            "name": "Missing"
           }
          ],
          "nan_count": 1,
          "unique_count": 4
         }
        },
        {
         "dtype": "object",
         "name": "STATUS",
         "stats": {
          "categories": [
           {
            "count": 1,
            "name": "no ans, msg sent"
           },
           {
            "count": 1,
            "name": "details not found"
           },
           {
            "count": 3,
            "name": "3 others"
           }
          ],
          "nan_count": 0,
          "unique_count": 5
         }
        },
        {
         "dtype": "object",
         "name": "User ID",
         "stats": {
          "categories": [
           {
            "count": 1,
            "name": "S62nY8I0p9dBr5Hfijq3wQi5Q143"
           },
           {
            "count": 1,
            "name": "PkQuhOEzi5gDlPRahCtpHPGjJc63"
           },
           {
            "count": 3,
            "name": "3 others"
           }
          ],
          "nan_count": 0,
          "unique_count": 5
         }
        },
        {
         "dtype": "float64",
         "name": "Duration (19 March)",
         "stats": {
          "histogram": [
           {
            "bin_end": 167.5,
            "bin_start": 0,
            "count": 1
           },
           {
            "bin_end": 335,
            "bin_start": 167.5,
            "count": 0
           },
           {
            "bin_end": 502.5,
            "bin_start": 335,
            "count": 0
           },
           {
            "bin_end": 670,
            "bin_start": 502.5,
            "count": 0
           },
           {
            "bin_end": 837.5,
            "bin_start": 670,
            "count": 0
           },
           {
            "bin_end": 1005,
            "bin_start": 837.5,
            "count": 1
           },
           {
            "bin_end": 1172.5,
            "bin_start": 1005,
            "count": 0
           },
           {
            "bin_end": 1340,
            "bin_start": 1172.5,
            "count": 1
           },
           {
            "bin_end": 1507.5,
            "bin_start": 1340,
            "count": 0
           },
           {
            "bin_end": 1675,
            "bin_start": 1507.5,
            "count": 2
           }
          ],
          "max": "1675.0",
          "min": "0.0",
          "nan_count": 0,
          "unique_count": 5
         }
        },
        {
         "dtype": "float64",
         "name": "Duration (20 March)",
         "stats": {
          "histogram": [
           {
            "bin_end": 674,
            "bin_start": 130,
            "count": 1
           },
           {
            "bin_end": 1218,
            "bin_start": 674,
            "count": 1
           },
           {
            "bin_end": 1762,
            "bin_start": 1218,
            "count": 0
           },
           {
            "bin_end": 2306,
            "bin_start": 1762,
            "count": 0
           },
           {
            "bin_end": 2850,
            "bin_start": 2306,
            "count": 0
           },
           {
            "bin_end": 3394,
            "bin_start": 2850,
            "count": 0
           },
           {
            "bin_end": 3938,
            "bin_start": 3394,
            "count": 0
           },
           {
            "bin_end": 4482,
            "bin_start": 3938,
            "count": 0
           },
           {
            "bin_end": 5026,
            "bin_start": 4482,
            "count": 1
           },
           {
            "bin_end": 5570,
            "bin_start": 5026,
            "count": 2
           }
          ],
          "max": "5570.0",
          "min": "130.0",
          "nan_count": 0,
          "unique_count": 5
         }
        },
        {
         "dtype": "object",
         "name": "Duration (26 March)",
         "stats": {
          "categories": [
           {
            "count": 1,
            "name": "5836"
           },
           {
            "count": 1,
            "name": "6213"
           },
           {
            "count": 3,
            "name": "3 others"
           }
          ],
          "nan_count": 0,
          "unique_count": 5
         }
        },
        {
         "dtype": "float64",
         "name": "Duration (27 March)",
         "stats": {
          "histogram": [
           {
            "bin_end": 552.9,
            "bin_start": 0,
            "count": 1
           },
           {
            "bin_end": 1105.8,
            "bin_start": 552.9,
            "count": 1
           },
           {
            "bin_end": 1658.6999999999998,
            "bin_start": 1105.8,
            "count": 0
           },
           {
            "bin_end": 2211.6,
            "bin_start": 1658.6999999999998,
            "count": 0
           },
           {
            "bin_end": 2764.5,
            "bin_start": 2211.6,
            "count": 0
           },
           {
            "bin_end": 3317.3999999999996,
            "bin_start": 2764.5,
            "count": 0
           },
           {
            "bin_end": 3870.2999999999997,
            "bin_start": 3317.3999999999996,
            "count": 0
           },
           {
            "bin_end": 4423.2,
            "bin_start": 3870.2999999999997,
            "count": 0
           },
           {
            "bin_end": 4976.099999999999,
            "bin_start": 4423.2,
            "count": 1
           },
           {
            "bin_end": 5529,
            "bin_start": 4976.099999999999,
            "count": 2
           }
          ],
          "max": "5529.0",
          "min": "0.0",
          "nan_count": 0,
          "unique_count": 5
         }
        },
        {
         "dtype": "float64",
         "name": "Duration (2nd April)",
         "stats": {
          "histogram": [
           {
            "bin_end": 6227.3,
            "bin_start": 6155,
            "count": 1
           },
           {
            "bin_end": 6299.6,
            "bin_start": 6227.3,
            "count": 0
           },
           {
            "bin_end": 6371.9,
            "bin_start": 6299.6,
            "count": 0
           },
           {
            "bin_end": 6444.2,
            "bin_start": 6371.9,
            "count": 1
           },
           {
            "bin_end": 6516.5,
            "bin_start": 6444.2,
            "count": 0
           },
           {
            "bin_end": 6588.8,
            "bin_start": 6516.5,
            "count": 0
           },
           {
            "bin_end": 6661.1,
            "bin_start": 6588.8,
            "count": 0
           },
           {
            "bin_end": 6733.4,
            "bin_start": 6661.1,
            "count": 0
           },
           {
            "bin_end": 6805.7,
            "bin_start": 6733.4,
            "count": 2
           },
           {
            "bin_end": 6878,
            "bin_start": 6805.7,
            "count": 1
           }
          ],
          "max": "6878.0",
          "min": "6155.0",
          "nan_count": 0,
          "unique_count": 5
         }
        },
        {
         "dtype": "float64",
         "name": "Duration (3rd April)",
         "stats": {
          "histogram": [
           {
            "bin_end": 716.7,
            "bin_start": 0,
            "count": 1
           },
           {
            "bin_end": 1433.4,
            "bin_start": 716.7,
            "count": 0
           },
           {
            "bin_end": 2150.1000000000004,
            "bin_start": 1433.4,
            "count": 0
           },
           {
            "bin_end": 2866.8,
            "bin_start": 2150.1000000000004,
            "count": 0
           },
           {
            "bin_end": 3583.5,
            "bin_start": 2866.8,
            "count": 0
           },
           {
            "bin_end": 4300.200000000001,
            "bin_start": 3583.5,
            "count": 0
           },
           {
            "bin_end": 5016.900000000001,
            "bin_start": 4300.200000000001,
            "count": 0
           },
           {
            "bin_end": 5733.6,
            "bin_start": 5016.900000000001,
            "count": 1
           },
           {
            "bin_end": 6450.3,
            "bin_start": 5733.6,
            "count": 0
           },
           {
            "bin_end": 7167,
            "bin_start": 6450.3,
            "count": 3
           }
          ],
          "max": "7167.0",
          "min": "0.0",
          "nan_count": 0,
          "unique_count": 5
         }
        },
        {
         "dtype": "float64",
         "name": "Duration (9th April)",
         "stats": {
          "histogram": [
           {
            "bin_end": 3161.3,
            "bin_start": 2757,
            "count": 1
           },
           {
            "bin_end": 3565.6,
            "bin_start": 3161.3,
            "count": 0
           },
           {
            "bin_end": 3969.9,
            "bin_start": 3565.6,
            "count": 0
           },
           {
            "bin_end": 4374.2,
            "bin_start": 3969.9,
            "count": 0
           },
           {
            "bin_end": 4778.5,
            "bin_start": 4374.2,
            "count": 0
           },
           {
            "bin_end": 5182.8,
            "bin_start": 4778.5,
            "count": 0
           },
           {
            "bin_end": 5587.1,
            "bin_start": 5182.8,
            "count": 0
           },
           {
            "bin_end": 5991.4,
            "bin_start": 5587.1,
            "count": 0
           },
           {
            "bin_end": 6395.700000000001,
            "bin_start": 5991.4,
            "count": 0
           },
           {
            "bin_end": 6800,
            "bin_start": 6395.700000000001,
            "count": 4
           }
          ],
          "max": "6800.0",
          "min": "2757.0",
          "nan_count": 0,
          "unique_count": 5
         }
        },
        {
         "dtype": "float64",
         "name": "Duration (10th April)",
         "stats": {
          "histogram": [
           {
            "bin_end": 5171.6,
            "bin_start": 4989,
            "count": 1
           },
           {
            "bin_end": 5354.2,
            "bin_start": 5171.6,
            "count": 0
           },
           {
            "bin_end": 5536.8,
            "bin_start": 5354.2,
            "count": 0
           },
           {
            "bin_end": 5719.4,
            "bin_start": 5536.8,
            "count": 1
           },
           {
            "bin_end": 5902,
            "bin_start": 5719.4,
            "count": 0
           },
           {
            "bin_end": 6084.6,
            "bin_start": 5902,
            "count": 0
           },
           {
            "bin_end": 6267.2,
            "bin_start": 6084.6,
            "count": 1
           },
           {
            "bin_end": 6449.8,
            "bin_start": 6267.2,
            "count": 0
           },
           {
            "bin_end": 6632.4,
            "bin_start": 6449.8,
            "count": 0
           },
           {
            "bin_end": 6815,
            "bin_start": 6632.4,
            "count": 2
           }
          ],
          "max": "6815.0",
          "min": "4989.0",
          "nan_count": 0,
          "unique_count": 5
         }
        },
        {
         "dtype": "float64",
         "name": "Duration (17th April)",
         "stats": {
          "histogram": [
           {
            "bin_end": 707.5,
            "bin_start": 0,
            "count": 1
           },
           {
            "bin_end": 1415,
            "bin_start": 707.5,
            "count": 0
           },
           {
            "bin_end": 2122.5,
            "bin_start": 1415,
            "count": 0
           },
           {
            "bin_end": 2830,
            "bin_start": 2122.5,
            "count": 0
           },
           {
            "bin_end": 3537.5,
            "bin_start": 2830,
            "count": 0
           },
           {
            "bin_end": 4245,
            "bin_start": 3537.5,
            "count": 0
           },
           {
            "bin_end": 4952.5,
            "bin_start": 4245,
            "count": 0
           },
           {
            "bin_end": 5660,
            "bin_start": 4952.5,
            "count": 0
           },
           {
            "bin_end": 6367.5,
            "bin_start": 5660,
            "count": 1
           },
           {
            "bin_end": 7075,
            "bin_start": 6367.5,
            "count": 3
           }
          ],
          "max": "7075.0",
          "min": "0.0",
          "nan_count": 0,
          "unique_count": 5
         }
        },
        {
         "dtype": "int64",
         "name": "_deepnote_index_column"
        }
       ],
       "row_count": 5,
       "rows": [
        {
         "Duration (10th April)": "6699.0",
         "Duration (17th April)": "6992.0",
         "Duration (19 March)": "1675.0",
         "Duration (20 March)": "980.0",
         "Duration (26 March)": "5836",
         "Duration (27 March)": "0.0",
         "Duration (2nd April)": "6799.0",
         "Duration (3rd April)": "6592.0",
         "Duration (9th April)": "6776.0",
         "Names": "Mohtashim Ali",
         "Phone no": "3474692536",
         "STATUS": "no ans, msg sent",
         "User ID": "S62nY8I0p9dBr5Hfijq3wQi5Q143",
         "_deepnote_index_column": "0"
        },
        {
         "Duration (10th April)": "6190.0",
         "Duration (17th April)": "6595.0",
         "Duration (19 March)": "0.0",
         "Duration (20 March)": "4772.0",
         "Duration (26 March)": "6213",
         "Duration (27 March)": "4638.0",
         "Duration (2nd April)": "6155.0",
         "Duration (3rd April)": "0.0",
         "Duration (9th April)": "6680.0",
         "Names": "Muneeb",
         "Phone no": "nan",
         "STATUS": "details not found",
         "User ID": "PkQuhOEzi5gDlPRahCtpHPGjJc63",
         "_deepnote_index_column": "1"
        },
        {
         "Duration (10th April)": "6815.0",
         "Duration (17th April)": "7075.0",
         "Duration (19 March)": "1628.0",
         "Duration (20 March)": "5570.0",
         "Duration (26 March)": "6828",
         "Duration (27 March)": "5529.0",
         "Duration (2nd April)": "6878.0",
         "Duration (3rd April)": "7167.0",
         "Duration (9th April)": "2757.0",
         "Names": "Nasreen",
         "Phone no": "966592544577              ",
         "STATUS": "internatioal num, msg sent",
         "User ID": "tU7OZFqHUbfhDYv9xguedchgum83",
         "_deepnote_index_column": "2"
        },
        {
         "Duration (10th April)": "5690.0",
         "Duration (17th April)": "5695.0",
         "Duration (19 March)": "995.0",
         "Duration (20 March)": "130.0",
         "Duration (26 March)": "5716",
         "Duration (27 March)": "650.0",
         "Duration (2nd April)": "6390.0",
         "Duration (3rd April)": "5670.0",
         "Duration (9th April)": "6800.0",
         "Names": "Abdul Haseeb",
         "Phone no": "3244183179                  ",
         "STATUS": "num off,msg sent",
         "User ID": "zUN8y0fbfheLvXCCdnuErauV4cO2",
         "_deepnote_index_column": "3"
        },
        {
         "Duration (10th April)": "4989.0",
         "Duration (17th April)": "0.0",
         "Duration (19 March)": "1245.0",
         "Duration (20 March)": "5217.0",
         "Duration (26 March)": "7081",
         "Duration (27 March)": "5469.0",
         "Duration (2nd April)": "6742.0",
         "Duration (3rd April)": "6460.0",
         "Duration (9th April)": "6760.0",
         "Names": "Mohsin Najam",
         "Phone no": "03470214554",
         "STATUS": "num busy, msg sent",
         "User ID": "WB1N4UM7X2Mo3okBeikUnV6vKo62",
         "_deepnote_index_column": "4"
        }
       ]
      },
      "text/html": [
       "<div>\n",
       "<style scoped>\n",
       "    .dataframe tbody tr th:only-of-type {\n",
       "        vertical-align: middle;\n",
       "    }\n",
       "\n",
       "    .dataframe tbody tr th {\n",
       "        vertical-align: top;\n",
       "    }\n",
       "\n",
       "    .dataframe thead th {\n",
       "        text-align: right;\n",
       "    }\n",
       "</style>\n",
       "<table border=\"1\" class=\"dataframe\">\n",
       "  <thead>\n",
       "    <tr style=\"text-align: right;\">\n",
       "      <th></th>\n",
       "      <th>Names</th>\n",
       "      <th>Phone no</th>\n",
       "      <th>STATUS</th>\n",
       "      <th>User ID</th>\n",
       "      <th>Duration (19 March)</th>\n",
       "      <th>Duration (20 March)</th>\n",
       "      <th>Duration (26 March)</th>\n",
       "      <th>Duration (27 March)</th>\n",
       "      <th>Duration (2nd April)</th>\n",
       "      <th>Duration (3rd April)</th>\n",
       "      <th>Duration (9th April)</th>\n",
       "      <th>Duration (10th April)</th>\n",
       "      <th>Duration (17th April)</th>\n",
       "    </tr>\n",
       "  </thead>\n",
       "  <tbody>\n",
       "    <tr>\n",
       "      <th>0</th>\n",
       "      <td>Mohtashim Ali</td>\n",
       "      <td>3474692536</td>\n",
       "      <td>no ans, msg sent</td>\n",
       "      <td>S62nY8I0p9dBr5Hfijq3wQi5Q143</td>\n",
       "      <td>1675.0</td>\n",
       "      <td>980.0</td>\n",
       "      <td>5836</td>\n",
       "      <td>0.0</td>\n",
       "      <td>6799.0</td>\n",
       "      <td>6592.0</td>\n",
       "      <td>6776.0</td>\n",
       "      <td>6699.0</td>\n",
       "      <td>6992.0</td>\n",
       "    </tr>\n",
       "    <tr>\n",
       "      <th>1</th>\n",
       "      <td>Muneeb</td>\n",
       "      <td>NaN</td>\n",
       "      <td>details not found</td>\n",
       "      <td>PkQuhOEzi5gDlPRahCtpHPGjJc63</td>\n",
       "      <td>0.0</td>\n",
       "      <td>4772.0</td>\n",
       "      <td>6213</td>\n",
       "      <td>4638.0</td>\n",
       "      <td>6155.0</td>\n",
       "      <td>0.0</td>\n",
       "      <td>6680.0</td>\n",
       "      <td>6190.0</td>\n",
       "      <td>6595.0</td>\n",
       "    </tr>\n",
       "    <tr>\n",
       "      <th>2</th>\n",
       "      <td>Nasreen</td>\n",
       "      <td>966592544577</td>\n",
       "      <td>internatioal num, msg sent</td>\n",
       "      <td>tU7OZFqHUbfhDYv9xguedchgum83</td>\n",
       "      <td>1628.0</td>\n",
       "      <td>5570.0</td>\n",
       "      <td>6828</td>\n",
       "      <td>5529.0</td>\n",
       "      <td>6878.0</td>\n",
       "      <td>7167.0</td>\n",
       "      <td>2757.0</td>\n",
       "      <td>6815.0</td>\n",
       "      <td>7075.0</td>\n",
       "    </tr>\n",
       "    <tr>\n",
       "      <th>3</th>\n",
       "      <td>Abdul Haseeb</td>\n",
       "      <td>3244183179</td>\n",
       "      <td>num off,msg sent</td>\n",
       "      <td>zUN8y0fbfheLvXCCdnuErauV4cO2</td>\n",
       "      <td>995.0</td>\n",
       "      <td>130.0</td>\n",
       "      <td>5716</td>\n",
       "      <td>650.0</td>\n",
       "      <td>6390.0</td>\n",
       "      <td>5670.0</td>\n",
       "      <td>6800.0</td>\n",
       "      <td>5690.0</td>\n",
       "      <td>5695.0</td>\n",
       "    </tr>\n",
       "    <tr>\n",
       "      <th>4</th>\n",
       "      <td>Mohsin Najam</td>\n",
       "      <td>03470214554</td>\n",
       "      <td>num busy, msg sent</td>\n",
       "      <td>WB1N4UM7X2Mo3okBeikUnV6vKo62</td>\n",
       "      <td>1245.0</td>\n",
       "      <td>5217.0</td>\n",
       "      <td>7081</td>\n",
       "      <td>5469.0</td>\n",
       "      <td>6742.0</td>\n",
       "      <td>6460.0</td>\n",
       "      <td>6760.0</td>\n",
       "      <td>4989.0</td>\n",
       "      <td>0.0</td>\n",
       "    </tr>\n",
       "  </tbody>\n",
       "</table>\n",
       "</div>"
      ],
      "text/plain": [
       "           Names                      Phone no                      STATUS  \\\n",
       "0  Mohtashim Ali                    3474692536            no ans, msg sent   \n",
       "1         Muneeb                           NaN           details not found   \n",
       "2        Nasreen    966592544577                internatioal num, msg sent   \n",
       "3   Abdul Haseeb  3244183179                              num off,msg sent   \n",
       "4   Mohsin Najam                   03470214554          num busy, msg sent   \n",
       "\n",
       "                        User ID  Duration (19 March)  Duration (20 March)  \\\n",
       "0  S62nY8I0p9dBr5Hfijq3wQi5Q143               1675.0                980.0   \n",
       "1  PkQuhOEzi5gDlPRahCtpHPGjJc63                  0.0               4772.0   \n",
       "2  tU7OZFqHUbfhDYv9xguedchgum83               1628.0               5570.0   \n",
       "3  zUN8y0fbfheLvXCCdnuErauV4cO2                995.0                130.0   \n",
       "4  WB1N4UM7X2Mo3okBeikUnV6vKo62               1245.0               5217.0   \n",
       "\n",
       "  Duration (26 March)  Duration (27 March)  Duration (2nd April)  \\\n",
       "0                5836                  0.0                6799.0   \n",
       "1                6213               4638.0                6155.0   \n",
       "2                6828               5529.0                6878.0   \n",
       "3                5716                650.0                6390.0   \n",
       "4                7081               5469.0                6742.0   \n",
       "\n",
       "   Duration (3rd April)  Duration (9th April)  Duration (10th April)  \\\n",
       "0                6592.0                6776.0                 6699.0   \n",
       "1                   0.0                6680.0                 6190.0   \n",
       "2                7167.0                2757.0                 6815.0   \n",
       "3                5670.0                6800.0                 5690.0   \n",
       "4                6460.0                6760.0                 4989.0   \n",
       "\n",
       "   Duration (17th April)  \n",
       "0                 6992.0  \n",
       "1                 6595.0  \n",
       "2                 7075.0  \n",
       "3                 5695.0  \n",
       "4                    0.0  "
      ]
     },
     "execution_count": 6,
     "metadata": {},
     "output_type": "execute_result"
    }
   ],
   "source": [
    "data_frame.head()"
   ]
  },
  {
   "cell_type": "code",
   "execution_count": 7,
   "metadata": {
    "cell_id": "2f578d5cd8d446e28d8589d689d42e53",
    "deepnote_app_coordinates": {
     "h": 5,
     "w": 12,
     "x": 0,
     "y": 37
    },
    "deepnote_cell_type": "code",
    "deepnote_to_be_reexecuted": false,
    "execution_millis": 1,
    "execution_start": 1677998029034,
    "source_hash": "56f7ec4e",
    "tags": []
   },
   "outputs": [],
   "source": [
    "data_frame = data_frame.drop(columns=[\"User ID\"])\n",
    "data_frame = data_frame.drop(columns=[\"STATUS\"])\n",
    "data_frame = data_frame.drop(columns=[\"Phone no\"])\n",
    "\n",
    "# Removing admin and teacher rows\n",
    "data_frame = data_frame.drop([15, 16, 18, 23, 28])\n",
    "\n",
    "# Replace NaN values with 0\n",
    "data_frame = data_frame.fillna(0)"
   ]
  },
  {
   "cell_type": "code",
   "execution_count": 8,
   "metadata": {
    "cell_id": "6102bf93230a437ebf258c501539686f",
    "deepnote_app_coordinates": {
     "h": 5,
     "w": 12,
     "x": 0,
     "y": 55
    },
    "deepnote_cell_type": "code",
    "deepnote_to_be_reexecuted": false,
    "execution_millis": 18,
    "execution_start": 1677998029071,
    "source_hash": "fcb3034",
    "tags": []
   },
   "outputs": [
    {
     "data": {
      "application/vnd.deepnote.dataframe.v3+json": {
       "column_count": 10,
       "columns": [
        {
         "dtype": "object",
         "name": "Names",
         "stats": {
          "categories": [
           {
            "count": 1,
            "name": "Mohtashim Ali"
           },
           {
            "count": 1,
            "name": "Muneeb"
           },
           {
            "count": 22,
            "name": "22 others"
           }
          ],
          "nan_count": 0,
          "unique_count": 24
         }
        },
        {
         "dtype": "float64",
         "name": "Duration (19 March)",
         "stats": {
          "histogram": [
           {
            "bin_end": 3.435,
            "bin_start": 0,
            "count": 7
           },
           {
            "bin_end": 6.87,
            "bin_start": 3.435,
            "count": 0
           },
           {
            "bin_end": 10.305,
            "bin_start": 6.87,
            "count": 1
           },
           {
            "bin_end": 13.74,
            "bin_start": 10.305,
            "count": 1
           },
           {
            "bin_end": 17.175,
            "bin_start": 13.74,
            "count": 3
           },
           {
            "bin_end": 20.61,
            "bin_start": 17.175,
            "count": 3
           },
           {
            "bin_end": 24.045,
            "bin_start": 20.61,
            "count": 5
           },
           {
            "bin_end": 27.48,
            "bin_start": 24.045,
            "count": 1
           },
           {
            "bin_end": 30.915,
            "bin_start": 27.48,
            "count": 2
           },
           {
            "bin_end": 34.35,
            "bin_start": 30.915,
            "count": 1
           }
          ],
          "max": "34.35",
          "min": "0.0",
          "nan_count": 0,
          "unique_count": 19
         }
        },
        {
         "dtype": "float64",
         "name": "Duration (20 March)",
         "stats": {
          "histogram": [
           {
            "bin_end": 10.322,
            "bin_start": 0,
            "count": 10
           },
           {
            "bin_end": 20.644,
            "bin_start": 10.322,
            "count": 1
           },
           {
            "bin_end": 30.965999999999998,
            "bin_start": 20.644,
            "count": 3
           },
           {
            "bin_end": 41.288,
            "bin_start": 30.965999999999998,
            "count": 1
           },
           {
            "bin_end": 51.61,
            "bin_start": 41.288,
            "count": 1
           },
           {
            "bin_end": 61.931999999999995,
            "bin_start": 51.61,
            "count": 1
           },
           {
            "bin_end": 72.25399999999999,
            "bin_start": 61.931999999999995,
            "count": 0
           },
           {
            "bin_end": 82.576,
            "bin_start": 72.25399999999999,
            "count": 2
           },
           {
            "bin_end": 92.898,
            "bin_start": 82.576,
            "count": 4
           },
           {
            "bin_end": 103.22,
            "bin_start": 92.898,
            "count": 1
           }
          ],
          "max": "103.22",
          "min": "0.0",
          "nan_count": 0,
          "unique_count": 16
         }
        },
        {
         "dtype": "float64",
         "name": "Duration (26 March)",
         "stats": {
          "histogram": [
           {
            "bin_end": 12.908000000000001,
            "bin_start": 0,
            "count": 7
           },
           {
            "bin_end": 25.816000000000003,
            "bin_start": 12.908000000000001,
            "count": 0
           },
           {
            "bin_end": 38.724000000000004,
            "bin_start": 25.816000000000003,
            "count": 0
           },
           {
            "bin_end": 51.632000000000005,
            "bin_start": 38.724000000000004,
            "count": 0
           },
           {
            "bin_end": 64.54,
            "bin_start": 51.632000000000005,
            "count": 2
           },
           {
            "bin_end": 77.44800000000001,
            "bin_start": 64.54,
            "count": 0
           },
           {
            "bin_end": 90.35600000000001,
            "bin_start": 77.44800000000001,
            "count": 1
           },
           {
            "bin_end": 103.26400000000001,
            "bin_start": 90.35600000000001,
            "count": 4
           },
           {
            "bin_end": 116.17200000000001,
            "bin_start": 103.26400000000001,
            "count": 7
           },
           {
            "bin_end": 129.08,
            "bin_start": 116.17200000000001,
            "count": 3
           }
          ],
          "max": "129.08",
          "min": "0.0",
          "nan_count": 0,
          "unique_count": 18
         }
        },
        {
         "dtype": "float64",
         "name": "Duration (27 March)",
         "stats": {
          "histogram": [
           {
            "bin_end": 9.647,
            "bin_start": 0,
            "count": 7
           },
           {
            "bin_end": 19.294,
            "bin_start": 9.647,
            "count": 1
           },
           {
            "bin_end": 28.941000000000003,
            "bin_start": 19.294,
            "count": 0
           },
           {
            "bin_end": 38.588,
            "bin_start": 28.941000000000003,
            "count": 2
           },
           {
            "bin_end": 48.235,
            "bin_start": 38.588,
            "count": 0
           },
           {
            "bin_end": 57.882000000000005,
            "bin_start": 48.235,
            "count": 0
           },
           {
            "bin_end": 67.529,
            "bin_start": 57.882000000000005,
            "count": 1
           },
           {
            "bin_end": 77.176,
            "bin_start": 67.529,
            "count": 2
           },
           {
            "bin_end": 86.82300000000001,
            "bin_start": 77.176,
            "count": 1
           },
           {
            "bin_end": 96.47,
            "bin_start": 86.82300000000001,
            "count": 10
           }
          ],
          "max": "96.47",
          "min": "0.0",
          "nan_count": 0,
          "unique_count": 18
         }
        },
        {
         "dtype": "float64",
         "name": "Duration (2nd April)",
         "stats": {
          "histogram": [
           {
            "bin_end": 13.392,
            "bin_start": 0,
            "count": 9
           },
           {
            "bin_end": 26.784,
            "bin_start": 13.392,
            "count": 0
           },
           {
            "bin_end": 40.176,
            "bin_start": 26.784,
            "count": 0
           },
           {
            "bin_end": 53.568,
            "bin_start": 40.176,
            "count": 0
           },
           {
            "bin_end": 66.96,
            "bin_start": 53.568,
            "count": 2
           },
           {
            "bin_end": 80.352,
            "bin_start": 66.96,
            "count": 1
           },
           {
            "bin_end": 93.744,
            "bin_start": 80.352,
            "count": 1
           },
           {
            "bin_end": 107.136,
            "bin_start": 93.744,
            "count": 4
           },
           {
            "bin_end": 120.52799999999999,
            "bin_start": 107.136,
            "count": 6
           },
           {
            "bin_end": 133.92,
            "bin_start": 120.52799999999999,
            "count": 1
           }
          ],
          "max": "133.92",
          "min": "0.0",
          "nan_count": 0,
          "unique_count": 18
         }
        },
        {
         "dtype": "float64",
         "name": "Duration (3rd April)",
         "stats": {
          "histogram": [
           {
            "bin_end": 12.038,
            "bin_start": 0,
            "count": 7
           },
           {
            "bin_end": 24.076,
            "bin_start": 12.038,
            "count": 2
           },
           {
            "bin_end": 36.114000000000004,
            "bin_start": 24.076,
            "count": 2
           },
           {
            "bin_end": 48.152,
            "bin_start": 36.114000000000004,
            "count": 0
           },
           {
            "bin_end": 60.19,
            "bin_start": 48.152,
            "count": 0
           },
           {
            "bin_end": 72.22800000000001,
            "bin_start": 60.19,
            "count": 0
           },
           {
            "bin_end": 84.266,
            "bin_start": 72.22800000000001,
            "count": 1
           },
           {
            "bin_end": 96.304,
            "bin_start": 84.266,
            "count": 1
           },
           {
            "bin_end": 108.342,
            "bin_start": 96.304,
            "count": 3
           },
           {
            "bin_end": 120.38,
            "bin_start": 108.342,
            "count": 8
           }
          ],
          "max": "120.38",
          "min": "0.0",
          "nan_count": 0,
          "unique_count": 18
         }
        },
        {
         "dtype": "float64",
         "name": "Duration (9th April)",
         "stats": {
          "histogram": [
           {
            "bin_end": 11.522,
            "bin_start": 0,
            "count": 8
           },
           {
            "bin_end": 23.044,
            "bin_start": 11.522,
            "count": 1
           },
           {
            "bin_end": 34.566,
            "bin_start": 23.044,
            "count": 0
           },
           {
            "bin_end": 46.088,
            "bin_start": 34.566,
            "count": 2
           },
           {
            "bin_end": 57.61,
            "bin_start": 46.088,
            "count": 0
           },
           {
            "bin_end": 69.132,
            "bin_start": 57.61,
            "count": 0
           },
           {
            "bin_end": 80.654,
            "bin_start": 69.132,
            "count": 0
           },
           {
            "bin_end": 92.176,
            "bin_start": 80.654,
            "count": 0
           },
           {
            "bin_end": 103.69800000000001,
            "bin_start": 92.176,
            "count": 4
           },
           {
            "bin_end": 115.22,
            "bin_start": 103.69800000000001,
            "count": 9
           }
          ],
          "max": "115.22",
          "min": "0.0",
          "nan_count": 0,
          "unique_count": 19
         }
        },
        {
         "dtype": "float64",
         "name": "Duration (10th April)",
         "stats": {
          "histogram": [
           {
            "bin_end": 11.358,
            "bin_start": 0,
            "count": 9
           },
           {
            "bin_end": 22.716,
            "bin_start": 11.358,
            "count": 1
           },
           {
            "bin_end": 34.074,
            "bin_start": 22.716,
            "count": 0
           },
           {
            "bin_end": 45.432,
            "bin_start": 34.074,
            "count": 0
           },
           {
            "bin_end": 56.790000000000006,
            "bin_start": 45.432,
            "count": 0
           },
           {
            "bin_end": 68.148,
            "bin_start": 56.790000000000006,
            "count": 1
           },
           {
            "bin_end": 79.506,
            "bin_start": 68.148,
            "count": 1
           },
           {
            "bin_end": 90.864,
            "bin_start": 79.506,
            "count": 3
           },
           {
            "bin_end": 102.22200000000001,
            "bin_start": 90.864,
            "count": 2
           },
           {
            "bin_end": 113.58,
            "bin_start": 102.22200000000001,
            "count": 7
           }
          ],
          "max": "113.58",
          "min": "0.0",
          "nan_count": 0,
          "unique_count": 17
         }
        },
        {
         "dtype": "float64",
         "name": "Duration (17th April)",
         "stats": {
          "histogram": [
           {
            "bin_end": 12.885,
            "bin_start": 0,
            "count": 10
           },
           {
            "bin_end": 25.77,
            "bin_start": 12.885,
            "count": 0
           },
           {
            "bin_end": 38.655,
            "bin_start": 25.77,
            "count": 1
           },
           {
            "bin_end": 51.54,
            "bin_start": 38.655,
            "count": 1
           },
           {
            "bin_end": 64.425,
            "bin_start": 51.54,
            "count": 0
           },
           {
            "bin_end": 77.31,
            "bin_start": 64.425,
            "count": 0
           },
           {
            "bin_end": 90.195,
            "bin_start": 77.31,
            "count": 0
           },
           {
            "bin_end": 103.08,
            "bin_start": 90.195,
            "count": 4
           },
           {
            "bin_end": 115.965,
            "bin_start": 103.08,
            "count": 2
           },
           {
            "bin_end": 128.85,
            "bin_start": 115.965,
            "count": 6
           }
          ],
          "max": "128.85",
          "min": "0.0",
          "nan_count": 0,
          "unique_count": 16
         }
        },
        {
         "dtype": "int64",
         "name": "_deepnote_index_column"
        }
       ],
       "row_count": 24,
       "rows": [
        {
         "Duration (10th April)": "111.65",
         "Duration (17th April)": "116.53",
         "Duration (19 March)": "27.92",
         "Duration (20 March)": "16.33",
         "Duration (26 March)": "97.27",
         "Duration (27 March)": "0.0",
         "Duration (2nd April)": "113.32",
         "Duration (3rd April)": "109.87",
         "Duration (9th April)": "112.93",
         "Names": "Mohtashim Ali",
         "_deepnote_index_column": "0"
        },
        {
         "Duration (10th April)": "103.17",
         "Duration (17th April)": "109.92",
         "Duration (19 March)": "0.0",
         "Duration (20 March)": "79.53",
         "Duration (26 March)": "103.55",
         "Duration (27 March)": "77.3",
         "Duration (2nd April)": "102.58",
         "Duration (3rd April)": "0.0",
         "Duration (9th April)": "111.33",
         "Names": "Muneeb",
         "_deepnote_index_column": "1"
        },
        {
         "Duration (10th April)": "113.58",
         "Duration (17th April)": "117.92",
         "Duration (19 March)": "27.13",
         "Duration (20 March)": "92.83",
         "Duration (26 March)": "113.8",
         "Duration (27 March)": "92.15",
         "Duration (2nd April)": "114.63",
         "Duration (3rd April)": "119.45",
         "Duration (9th April)": "45.95",
         "Names": "Nasreen",
         "_deepnote_index_column": "2"
        },
        {
         "Duration (10th April)": "94.83",
         "Duration (17th April)": "94.92",
         "Duration (19 March)": "16.58",
         "Duration (20 March)": "2.17",
         "Duration (26 March)": "95.27",
         "Duration (27 March)": "10.83",
         "Duration (2nd April)": "106.5",
         "Duration (3rd April)": "94.5",
         "Duration (9th April)": "113.33",
         "Names": "Abdul Haseeb",
         "_deepnote_index_column": "3"
        },
        {
         "Duration (10th April)": "83.15",
         "Duration (17th April)": "0.0",
         "Duration (19 March)": "20.75",
         "Duration (20 March)": "86.95",
         "Duration (26 March)": "118.02",
         "Duration (27 March)": "91.15",
         "Duration (2nd April)": "112.37",
         "Duration (3rd April)": "107.67",
         "Duration (9th April)": "112.67",
         "Names": "Mohsin Najam",
         "_deepnote_index_column": "4"
        },
        {
         "Duration (10th April)": "87.25",
         "Duration (17th April)": "26.75",
         "Duration (19 March)": "27.85",
         "Duration (20 March)": "24.43",
         "Duration (26 March)": "123.1",
         "Duration (27 March)": "33.08",
         "Duration (2nd April)": "61.17",
         "Duration (3rd April)": "0.0",
         "Duration (9th April)": "37.48",
         "Names": "Hamza",
         "_deepnote_index_column": "5"
        },
        {
         "Duration (10th April)": "108.93",
         "Duration (17th April)": "116.08",
         "Duration (19 March)": "23.23",
         "Duration (20 March)": "30.83",
         "Duration (26 March)": "104.02",
         "Duration (27 March)": "90.62",
         "Duration (2nd April)": "106.75",
         "Duration (3rd April)": "120.38",
         "Duration (9th April)": "109.67",
         "Names": "Waqas Rahman",
         "_deepnote_index_column": "6"
        },
        {
         "Duration (10th April)": "12.17",
         "Duration (17th April)": "10.43",
         "Duration (19 March)": "34.35",
         "Duration (20 March)": "34.4",
         "Duration (26 March)": "101.67",
         "Duration (27 March)": "59.6",
         "Duration (2nd April)": "6.6",
         "Duration (3rd April)": "30.83",
         "Duration (9th April)": "8.5",
         "Names": "Abdul Qudoos",
         "_deepnote_index_column": "7"
        },
        {
         "Duration (10th April)": "109.0",
         "Duration (17th April)": "116.25",
         "Duration (19 March)": "18.72",
         "Duration (20 March)": "30.55",
         "Duration (26 March)": "110.12",
         "Duration (27 March)": "92.4",
         "Duration (2nd April)": "94.7",
         "Duration (3rd April)": "113.28",
         "Duration (9th April)": "115.22",
         "Names": "Beenish",
         "_deepnote_index_column": "8"
        },
        {
         "Duration (10th April)": "97.75",
         "Duration (17th April)": "99.65",
         "Duration (19 March)": "18.33",
         "Duration (20 March)": "83.85",
         "Duration (26 March)": "129.08",
         "Duration (27 March)": "90.52",
         "Duration (2nd April)": "110.3",
         "Duration (3rd April)": "113.45",
         "Duration (9th April)": "96.22",
         "Names": "Ahmed Raza",
         "_deepnote_index_column": "9"
        }
       ]
      },
      "text/html": [
       "<div>\n",
       "<style scoped>\n",
       "    .dataframe tbody tr th:only-of-type {\n",
       "        vertical-align: middle;\n",
       "    }\n",
       "\n",
       "    .dataframe tbody tr th {\n",
       "        vertical-align: top;\n",
       "    }\n",
       "\n",
       "    .dataframe thead th {\n",
       "        text-align: right;\n",
       "    }\n",
       "</style>\n",
       "<table border=\"1\" class=\"dataframe\">\n",
       "  <thead>\n",
       "    <tr style=\"text-align: right;\">\n",
       "      <th></th>\n",
       "      <th>Names</th>\n",
       "      <th>Duration (19 March)</th>\n",
       "      <th>Duration (20 March)</th>\n",
       "      <th>Duration (26 March)</th>\n",
       "      <th>Duration (27 March)</th>\n",
       "      <th>Duration (2nd April)</th>\n",
       "      <th>Duration (3rd April)</th>\n",
       "      <th>Duration (9th April)</th>\n",
       "      <th>Duration (10th April)</th>\n",
       "      <th>Duration (17th April)</th>\n",
       "    </tr>\n",
       "  </thead>\n",
       "  <tbody>\n",
       "    <tr>\n",
       "      <th>0</th>\n",
       "      <td>Mohtashim Ali</td>\n",
       "      <td>27.92</td>\n",
       "      <td>16.33</td>\n",
       "      <td>97.27</td>\n",
       "      <td>0.00</td>\n",
       "      <td>113.32</td>\n",
       "      <td>109.87</td>\n",
       "      <td>112.93</td>\n",
       "      <td>111.65</td>\n",
       "      <td>116.53</td>\n",
       "    </tr>\n",
       "    <tr>\n",
       "      <th>1</th>\n",
       "      <td>Muneeb</td>\n",
       "      <td>0.00</td>\n",
       "      <td>79.53</td>\n",
       "      <td>103.55</td>\n",
       "      <td>77.30</td>\n",
       "      <td>102.58</td>\n",
       "      <td>0.00</td>\n",
       "      <td>111.33</td>\n",
       "      <td>103.17</td>\n",
       "      <td>109.92</td>\n",
       "    </tr>\n",
       "    <tr>\n",
       "      <th>2</th>\n",
       "      <td>Nasreen</td>\n",
       "      <td>27.13</td>\n",
       "      <td>92.83</td>\n",
       "      <td>113.80</td>\n",
       "      <td>92.15</td>\n",
       "      <td>114.63</td>\n",
       "      <td>119.45</td>\n",
       "      <td>45.95</td>\n",
       "      <td>113.58</td>\n",
       "      <td>117.92</td>\n",
       "    </tr>\n",
       "    <tr>\n",
       "      <th>3</th>\n",
       "      <td>Abdul Haseeb</td>\n",
       "      <td>16.58</td>\n",
       "      <td>2.17</td>\n",
       "      <td>95.27</td>\n",
       "      <td>10.83</td>\n",
       "      <td>106.50</td>\n",
       "      <td>94.50</td>\n",
       "      <td>113.33</td>\n",
       "      <td>94.83</td>\n",
       "      <td>94.92</td>\n",
       "    </tr>\n",
       "    <tr>\n",
       "      <th>4</th>\n",
       "      <td>Mohsin Najam</td>\n",
       "      <td>20.75</td>\n",
       "      <td>86.95</td>\n",
       "      <td>118.02</td>\n",
       "      <td>91.15</td>\n",
       "      <td>112.37</td>\n",
       "      <td>107.67</td>\n",
       "      <td>112.67</td>\n",
       "      <td>83.15</td>\n",
       "      <td>0.00</td>\n",
       "    </tr>\n",
       "    <tr>\n",
       "      <th>5</th>\n",
       "      <td>Hamza</td>\n",
       "      <td>27.85</td>\n",
       "      <td>24.43</td>\n",
       "      <td>123.10</td>\n",
       "      <td>33.08</td>\n",
       "      <td>61.17</td>\n",
       "      <td>0.00</td>\n",
       "      <td>37.48</td>\n",
       "      <td>87.25</td>\n",
       "      <td>26.75</td>\n",
       "    </tr>\n",
       "    <tr>\n",
       "      <th>6</th>\n",
       "      <td>Waqas Rahman</td>\n",
       "      <td>23.23</td>\n",
       "      <td>30.83</td>\n",
       "      <td>104.02</td>\n",
       "      <td>90.62</td>\n",
       "      <td>106.75</td>\n",
       "      <td>120.38</td>\n",
       "      <td>109.67</td>\n",
       "      <td>108.93</td>\n",
       "      <td>116.08</td>\n",
       "    </tr>\n",
       "    <tr>\n",
       "      <th>7</th>\n",
       "      <td>Abdul Qudoos</td>\n",
       "      <td>34.35</td>\n",
       "      <td>34.40</td>\n",
       "      <td>101.67</td>\n",
       "      <td>59.60</td>\n",
       "      <td>6.60</td>\n",
       "      <td>30.83</td>\n",
       "      <td>8.50</td>\n",
       "      <td>12.17</td>\n",
       "      <td>10.43</td>\n",
       "    </tr>\n",
       "    <tr>\n",
       "      <th>8</th>\n",
       "      <td>Beenish</td>\n",
       "      <td>18.72</td>\n",
       "      <td>30.55</td>\n",
       "      <td>110.12</td>\n",
       "      <td>92.40</td>\n",
       "      <td>94.70</td>\n",
       "      <td>113.28</td>\n",
       "      <td>115.22</td>\n",
       "      <td>109.00</td>\n",
       "      <td>116.25</td>\n",
       "    </tr>\n",
       "    <tr>\n",
       "      <th>9</th>\n",
       "      <td>Ahmed Raza</td>\n",
       "      <td>18.33</td>\n",
       "      <td>83.85</td>\n",
       "      <td>129.08</td>\n",
       "      <td>90.52</td>\n",
       "      <td>110.30</td>\n",
       "      <td>113.45</td>\n",
       "      <td>96.22</td>\n",
       "      <td>97.75</td>\n",
       "      <td>99.65</td>\n",
       "    </tr>\n",
       "    <tr>\n",
       "      <th>10</th>\n",
       "      <td>Fahad Sajjad</td>\n",
       "      <td>16.90</td>\n",
       "      <td>53.02</td>\n",
       "      <td>61.95</td>\n",
       "      <td>96.47</td>\n",
       "      <td>90.92</td>\n",
       "      <td>15.13</td>\n",
       "      <td>103.02</td>\n",
       "      <td>57.23</td>\n",
       "      <td>0.00</td>\n",
       "    </tr>\n",
       "    <tr>\n",
       "      <th>11</th>\n",
       "      <td>Muhammad Ukkasha</td>\n",
       "      <td>17.67</td>\n",
       "      <td>82.62</td>\n",
       "      <td>114.95</td>\n",
       "      <td>92.77</td>\n",
       "      <td>108.35</td>\n",
       "      <td>102.93</td>\n",
       "      <td>0.75</td>\n",
       "      <td>71.98</td>\n",
       "      <td>49.60</td>\n",
       "    </tr>\n",
       "    <tr>\n",
       "      <th>12</th>\n",
       "      <td>shahab</td>\n",
       "      <td>22.58</td>\n",
       "      <td>73.77</td>\n",
       "      <td>114.05</td>\n",
       "      <td>69.02</td>\n",
       "      <td>133.92</td>\n",
       "      <td>116.33</td>\n",
       "      <td>102.55</td>\n",
       "      <td>110.58</td>\n",
       "      <td>128.85</td>\n",
       "    </tr>\n",
       "    <tr>\n",
       "      <th>13</th>\n",
       "      <td>Fahad Mehmood</td>\n",
       "      <td>15.92</td>\n",
       "      <td>41.30</td>\n",
       "      <td>55.82</td>\n",
       "      <td>0.00</td>\n",
       "      <td>72.42</td>\n",
       "      <td>19.25</td>\n",
       "      <td>19.27</td>\n",
       "      <td>0.00</td>\n",
       "      <td>0.00</td>\n",
       "    </tr>\n",
       "    <tr>\n",
       "      <th>14</th>\n",
       "      <td>Burhan Ali</td>\n",
       "      <td>0.00</td>\n",
       "      <td>103.22</td>\n",
       "      <td>0.00</td>\n",
       "      <td>0.00</td>\n",
       "      <td>0.00</td>\n",
       "      <td>0.00</td>\n",
       "      <td>0.00</td>\n",
       "      <td>0.00</td>\n",
       "      <td>0.00</td>\n",
       "    </tr>\n",
       "    <tr>\n",
       "      <th>17</th>\n",
       "      <td>Ghulam Ali</td>\n",
       "      <td>23.83</td>\n",
       "      <td>0.00</td>\n",
       "      <td>0.00</td>\n",
       "      <td>0.00</td>\n",
       "      <td>0.00</td>\n",
       "      <td>0.00</td>\n",
       "      <td>0.00</td>\n",
       "      <td>0.00</td>\n",
       "      <td>0.00</td>\n",
       "    </tr>\n",
       "    <tr>\n",
       "      <th>19</th>\n",
       "      <td>Abdulkarim Ahmed</td>\n",
       "      <td>9.97</td>\n",
       "      <td>0.00</td>\n",
       "      <td>89.18</td>\n",
       "      <td>76.62</td>\n",
       "      <td>0.00</td>\n",
       "      <td>78.17</td>\n",
       "      <td>96.72</td>\n",
       "      <td>1.07</td>\n",
       "      <td>104.72</td>\n",
       "    </tr>\n",
       "    <tr>\n",
       "      <th>20</th>\n",
       "      <td>Muhammad Awais</td>\n",
       "      <td>0.22</td>\n",
       "      <td>0.00</td>\n",
       "      <td>0.00</td>\n",
       "      <td>0.00</td>\n",
       "      <td>0.00</td>\n",
       "      <td>26.30</td>\n",
       "      <td>0.00</td>\n",
       "      <td>0.00</td>\n",
       "      <td>0.00</td>\n",
       "    </tr>\n",
       "    <tr>\n",
       "      <th>21</th>\n",
       "      <td>Sanawar Shahzad</td>\n",
       "      <td>10.63</td>\n",
       "      <td>0.00</td>\n",
       "      <td>0.00</td>\n",
       "      <td>0.00</td>\n",
       "      <td>0.00</td>\n",
       "      <td>0.00</td>\n",
       "      <td>0.00</td>\n",
       "      <td>0.00</td>\n",
       "      <td>0.00</td>\n",
       "    </tr>\n",
       "    <tr>\n",
       "      <th>22</th>\n",
       "      <td>Hamza Iftikhar</td>\n",
       "      <td>22.17</td>\n",
       "      <td>0.00</td>\n",
       "      <td>0.00</td>\n",
       "      <td>0.00</td>\n",
       "      <td>64.25</td>\n",
       "      <td>108.50</td>\n",
       "      <td>104.47</td>\n",
       "      <td>0.00</td>\n",
       "      <td>127.00</td>\n",
       "    </tr>\n",
       "    <tr>\n",
       "      <th>24</th>\n",
       "      <td>Waleed Ahmad</td>\n",
       "      <td>0.00</td>\n",
       "      <td>0.00</td>\n",
       "      <td>110.57</td>\n",
       "      <td>93.63</td>\n",
       "      <td>10.80</td>\n",
       "      <td>105.23</td>\n",
       "      <td>114.72</td>\n",
       "      <td>113.03</td>\n",
       "      <td>94.08</td>\n",
       "    </tr>\n",
       "    <tr>\n",
       "      <th>25</th>\n",
       "      <td>Jamshed Iqbal</td>\n",
       "      <td>0.00</td>\n",
       "      <td>0.00</td>\n",
       "      <td>97.53</td>\n",
       "      <td>93.35</td>\n",
       "      <td>109.47</td>\n",
       "      <td>109.25</td>\n",
       "      <td>104.83</td>\n",
       "      <td>89.22</td>\n",
       "      <td>95.18</td>\n",
       "    </tr>\n",
       "    <tr>\n",
       "      <th>26</th>\n",
       "      <td>Muhammad Abdullah Habib</td>\n",
       "      <td>0.00</td>\n",
       "      <td>0.00</td>\n",
       "      <td>0.00</td>\n",
       "      <td>38.15</td>\n",
       "      <td>0.00</td>\n",
       "      <td>0.00</td>\n",
       "      <td>0.00</td>\n",
       "      <td>0.00</td>\n",
       "      <td>0.00</td>\n",
       "    </tr>\n",
       "    <tr>\n",
       "      <th>27</th>\n",
       "      <td>Shuja Ali Saleemuddin</td>\n",
       "      <td>0.00</td>\n",
       "      <td>0.00</td>\n",
       "      <td>0.00</td>\n",
       "      <td>89.90</td>\n",
       "      <td>0.00</td>\n",
       "      <td>0.00</td>\n",
       "      <td>0.00</td>\n",
       "      <td>0.00</td>\n",
       "      <td>0.00</td>\n",
       "    </tr>\n",
       "  </tbody>\n",
       "</table>\n",
       "</div>"
      ],
      "text/plain": [
       "                      Names  Duration (19 March)  Duration (20 March)  \\\n",
       "0             Mohtashim Ali                27.92                16.33   \n",
       "1                    Muneeb                 0.00                79.53   \n",
       "2                   Nasreen                27.13                92.83   \n",
       "3              Abdul Haseeb                16.58                 2.17   \n",
       "4              Mohsin Najam                20.75                86.95   \n",
       "5                     Hamza                27.85                24.43   \n",
       "6              Waqas Rahman                23.23                30.83   \n",
       "7              Abdul Qudoos                34.35                34.40   \n",
       "8                   Beenish                18.72                30.55   \n",
       "9                Ahmed Raza                18.33                83.85   \n",
       "10             Fahad Sajjad                16.90                53.02   \n",
       "11         Muhammad Ukkasha                17.67                82.62   \n",
       "12                   shahab                22.58                73.77   \n",
       "13            Fahad Mehmood                15.92                41.30   \n",
       "14               Burhan Ali                 0.00               103.22   \n",
       "17             Ghulam Ali                  23.83                 0.00   \n",
       "19        Abdulkarim Ahmed                  9.97                 0.00   \n",
       "20          Muhammad Awais                  0.22                 0.00   \n",
       "21         Sanawar Shahzad                 10.63                 0.00   \n",
       "22          Hamza Iftikhar                 22.17                 0.00   \n",
       "24             Waleed Ahmad                 0.00                 0.00   \n",
       "25            Jamshed Iqbal                 0.00                 0.00   \n",
       "26  Muhammad Abdullah Habib                 0.00                 0.00   \n",
       "27    Shuja Ali Saleemuddin                 0.00                 0.00   \n",
       "\n",
       "    Duration (26 March)  Duration (27 March)  Duration (2nd April)  \\\n",
       "0                 97.27                 0.00                113.32   \n",
       "1                103.55                77.30                102.58   \n",
       "2                113.80                92.15                114.63   \n",
       "3                 95.27                10.83                106.50   \n",
       "4                118.02                91.15                112.37   \n",
       "5                123.10                33.08                 61.17   \n",
       "6                104.02                90.62                106.75   \n",
       "7                101.67                59.60                  6.60   \n",
       "8                110.12                92.40                 94.70   \n",
       "9                129.08                90.52                110.30   \n",
       "10                61.95                96.47                 90.92   \n",
       "11               114.95                92.77                108.35   \n",
       "12               114.05                69.02                133.92   \n",
       "13                55.82                 0.00                 72.42   \n",
       "14                 0.00                 0.00                  0.00   \n",
       "17                 0.00                 0.00                  0.00   \n",
       "19                89.18                76.62                  0.00   \n",
       "20                 0.00                 0.00                  0.00   \n",
       "21                 0.00                 0.00                  0.00   \n",
       "22                 0.00                 0.00                 64.25   \n",
       "24               110.57                93.63                 10.80   \n",
       "25                97.53                93.35                109.47   \n",
       "26                 0.00                38.15                  0.00   \n",
       "27                 0.00                89.90                  0.00   \n",
       "\n",
       "    Duration (3rd April)  Duration (9th April)  Duration (10th April)  \\\n",
       "0                 109.87                112.93                 111.65   \n",
       "1                   0.00                111.33                 103.17   \n",
       "2                 119.45                 45.95                 113.58   \n",
       "3                  94.50                113.33                  94.83   \n",
       "4                 107.67                112.67                  83.15   \n",
       "5                   0.00                 37.48                  87.25   \n",
       "6                 120.38                109.67                 108.93   \n",
       "7                  30.83                  8.50                  12.17   \n",
       "8                 113.28                115.22                 109.00   \n",
       "9                 113.45                 96.22                  97.75   \n",
       "10                 15.13                103.02                  57.23   \n",
       "11                102.93                  0.75                  71.98   \n",
       "12                116.33                102.55                 110.58   \n",
       "13                 19.25                 19.27                   0.00   \n",
       "14                  0.00                  0.00                   0.00   \n",
       "17                  0.00                  0.00                   0.00   \n",
       "19                 78.17                 96.72                   1.07   \n",
       "20                 26.30                  0.00                   0.00   \n",
       "21                  0.00                  0.00                   0.00   \n",
       "22                108.50                104.47                   0.00   \n",
       "24                105.23                114.72                 113.03   \n",
       "25                109.25                104.83                  89.22   \n",
       "26                  0.00                  0.00                   0.00   \n",
       "27                  0.00                  0.00                   0.00   \n",
       "\n",
       "    Duration (17th April)  \n",
       "0                  116.53  \n",
       "1                  109.92  \n",
       "2                  117.92  \n",
       "3                   94.92  \n",
       "4                    0.00  \n",
       "5                   26.75  \n",
       "6                  116.08  \n",
       "7                   10.43  \n",
       "8                  116.25  \n",
       "9                   99.65  \n",
       "10                   0.00  \n",
       "11                  49.60  \n",
       "12                 128.85  \n",
       "13                   0.00  \n",
       "14                   0.00  \n",
       "17                   0.00  \n",
       "19                 104.72  \n",
       "20                   0.00  \n",
       "21                   0.00  \n",
       "22                 127.00  \n",
       "24                  94.08  \n",
       "25                  95.18  \n",
       "26                   0.00  \n",
       "27                   0.00  "
      ]
     },
     "execution_count": 8,
     "metadata": {},
     "output_type": "execute_result"
    }
   ],
   "source": [
    "# Converting column \"Duration (26 March)\" \n",
    "# from string to integer so we can convert time from seconds into minutes\n",
    "\n",
    "data_frame[\"Duration (26 March)\"] = data_frame[\"Duration (26 March)\"].apply(int)\n",
    "\n",
    "# Converting seconds into minutes \n",
    "\n",
    "def seconds_to_minutes(seconds):\n",
    "    minutes = seconds / 60\n",
    "    return round(minutes, 2)\n",
    "\n",
    "\n",
    "for i in range(1, len(data_frame.columns)):\n",
    "    data_frame.iloc[:, i] = data_frame.iloc[:, i].apply(seconds_to_minutes) \n",
    "\n",
    "data_frame"
   ]
  },
  {
   "cell_type": "code",
   "execution_count": 9,
   "metadata": {
    "cell_id": "39112388eace46fda7e9d5b4cf1ab23d",
    "deepnote_app_coordinates": {
     "h": 5,
     "w": 12,
     "x": 0,
     "y": 67
    },
    "deepnote_cell_type": "code",
    "deepnote_to_be_reexecuted": false,
    "execution_millis": 517,
    "execution_start": 1677998029119,
    "source_hash": "b990c712",
    "tags": []
   },
   "outputs": [
    {
     "data": {
      "image/png": "[encoded data removed]",
      "text/plain": [
       "<Figure size 1200x600 with 1 Axes>"
      ]
     },
     "metadata": {
      "image/png": {
       "height": 588,
       "width": 1105
      }
     },
     "output_type": "display_data"
    }
   ],
   "source": [
    "time_spent = []\n",
    "\n",
    "for i in range(data_frame.shape[0]):\n",
    "    time_spent.append(int(data_frame.iloc[i, 1::].sum()))\n",
    "\n",
    "\n",
    "from matplotlib import rcParams\n",
    "\n",
    "plt.style.use(\"fivethirtyeight\")\n",
    "\n",
    "# rcParams[\"figure.figsize\"] = 6, 8\n",
    "plt.figure(figsize=(12, 6))\n",
    "\n",
    "\n",
    "plt.bar(range(data_frame.shape[0]), time_spent, color=\"#444444\", label=\"Time Spent\")\n",
    "\n",
    "plt.xticks(np.arange(0, data_frame.shape[0], step=1))\n",
    "plt.title(\"Time spent (in minutes) by students\")\n",
    "plt.xlabel(\"Index number of students\")\n",
    "plt.show()"
   ]
  },
  {
   "cell_type": "code",
   "execution_count": 10,
   "metadata": {
    "cell_id": "002280975ba64784a4e5e1b4af85adad",
    "deepnote_app_coordinates": {
     "h": 5,
     "w": 12,
     "x": 0,
     "y": 73
    },
    "deepnote_cell_type": "code",
    "deepnote_to_be_reexecuted": false,
    "execution_millis": 2,
    "execution_start": 1677998029675,
    "source_hash": "25f8f8b5",
    "tags": []
   },
   "outputs": [
    {
     "data": {
      "text/plain": [
       "0               Mohtashim Ali\n",
       "1                      Muneeb\n",
       "2                     Nasreen\n",
       "3                Abdul Haseeb\n",
       "4                Mohsin Najam\n",
       "5                       Hamza\n",
       "6                Waqas Rahman\n",
       "7                Abdul Qudoos\n",
       "8                     Beenish\n",
       "9                  Ahmed Raza\n",
       "10               Fahad Sajjad\n",
       "11           Muhammad Ukkasha\n",
       "12                     shahab\n",
       "13              Fahad Mehmood\n",
       "14                 Burhan Ali\n",
       "17               Ghulam Ali  \n",
       "19          Abdulkarim Ahmed \n",
       "20            Muhammad Awais \n",
       "21           Sanawar Shahzad \n",
       "22            Hamza Iftikhar \n",
       "24               Waleed Ahmad\n",
       "25              Jamshed Iqbal\n",
       "26    Muhammad Abdullah Habib\n",
       "27      Shuja Ali Saleemuddin\n",
       "Name: Names, dtype: object"
      ]
     },
     "execution_count": 10,
     "metadata": {},
     "output_type": "execute_result"
    }
   ],
   "source": [
    "data_frame.Names"
   ]
  },
  {
   "cell_type": "code",
   "execution_count": 11,
   "metadata": {
    "cell_id": "065075b6f70648838595970613f7f909",
    "deepnote_app_coordinates": {
     "h": 5,
     "w": 12,
     "x": 0,
     "y": 85
    },
    "deepnote_cell_type": "code",
    "deepnote_to_be_reexecuted": false,
    "execution_millis": 70,
    "execution_start": 1677998029676,
    "source_hash": "be193f34",
    "tags": []
   },
   "outputs": [
    {
     "data": {
      "application/vnd.deepnote.dataframe.v3+json": {
       "column_count": 24,
       "columns": [
        {
         "dtype": "object",
         "name": "Mohtashim Ali",
         "stats": {
          "categories": [
           {
            "count": 1,
            "name": "27.92"
           },
           {
            "count": 1,
            "name": "16.33"
           },
           {
            "count": 7,
            "name": "7 others"
           }
          ],
          "nan_count": 0,
          "unique_count": 9
         }
        },
        {
         "dtype": "object",
         "name": "Muneeb",
         "stats": {
          "categories": [
           {
            "count": 2,
            "name": "0.0"
           },
           {
            "count": 1,
            "name": "79.53"
           },
           {
            "count": 6,
            "name": "6 others"
           }
          ],
          "nan_count": 0,
          "unique_count": 8
         }
        },
        {
         "dtype": "object",
         "name": "Nasreen",
         "stats": {
          "categories": [
           {
            "count": 1,
            "name": "27.13"
           },
           {
            "count": 1,
            "name": "92.83"
           },
           {
            "count": 7,
            "name": "7 others"
           }
          ],
          "nan_count": 0,
          "unique_count": 9
         }
        },
        {
         "dtype": "object",
         "name": "Abdul Haseeb",
         "stats": {
          "categories": [
           {
            "count": 1,
            "name": "16.58"
           },
           {
            "count": 1,
            "name": "2.17"
           },
           {
            "count": 7,
            "name": "7 others"
           }
          ],
          "nan_count": 0,
          "unique_count": 9
         }
        },
        {
         "dtype": "object",
         "name": "Mohsin Najam",
         "stats": {
          "categories": [
           {
            "count": 1,
            "name": "20.75"
           },
           {
            "count": 1,
            "name": "86.95"
           },
           {
            "count": 7,
            "name": "7 others"
           }
          ],
          "nan_count": 0,
          "unique_count": 9
         }
        },
        {
         "dtype": "object",
         "name": "Hamza",
         "stats": {
          "categories": [
           {
            "count": 1,
            "name": "27.85"
           },
           {
            "count": 1,
            "name": "24.43"
           },
           {
            "count": 7,
            "name": "7 others"
           }
          ],
          "nan_count": 0,
          "unique_count": 9
         }
        },
        {
         "dtype": "object",
         "name": "Waqas Rahman",
         "stats": {
          "categories": [
           {
            "count": 1,
            "name": "23.23"
           },
           {
            "count": 1,
            "name": "30.83"
           },
           {
            "count": 7,
            "name": "7 others"
           }
          ],
          "nan_count": 0,
          "unique_count": 9
         }
        },
        {
         "dtype": "object",
         "name": "Abdul Qudoos",
         "stats": {
          "categories": [
           {
            "count": 1,
            "name": "34.35"
           },
           {
            "count": 1,
            "name": "34.4"
           },
           {
            "count": 7,
            "name": "7 others"
           }
          ],
          "nan_count": 0,
          "unique_count": 9
         }
        },
        {
         "dtype": "object",
         "name": "Beenish",
         "stats": {
          "categories": [
           {
            "count": 1,
            "name": "18.72"
           },
           {
            "count": 1,
            "name": "30.55"
           },
           {
            "count": 7,
            "name": "7 others"
           }
          ],
          "nan_count": 0,
          "unique_count": 9
         }
        },
        {
         "dtype": "object",
         "name": "Ahmed Raza",
         "stats": {
          "categories": [
           {
            "count": 1,
            "name": "18.33"
           },
           {
            "count": 1,
            "name": "83.85"
           },
           {
            "count": 7,
            "name": "7 others"
           }
          ],
          "nan_count": 0,
          "unique_count": 9
         }
        },
        {
         "dtype": "object",
         "name": "Fahad Sajjad",
         "stats": {
          "categories": [
           {
            "count": 1,
            "name": "16.9"
           },
           {
            "count": 1,
            "name": "53.02"
           },
           {
            "count": 7,
            "name": "7 others"
           }
          ],
          "nan_count": 0,
          "unique_count": 9
         }
        },
        {
         "dtype": "object",
         "name": "Muhammad Ukkasha",
         "stats": {
          "categories": [
           {
            "count": 1,
            "name": "17.67"
           },
           {
            "count": 1,
            "name": "82.62"
           },
           {
            "count": 7,
            "name": "7 others"
           }
          ],
          "nan_count": 0,
          "unique_count": 9
         }
        },
        {
         "dtype": "object",
         "name": "shahab",
         "stats": {
          "categories": [
           {
            "count": 1,
            "name": "22.58"
           },
           {
            "count": 1,
            "name": "73.77"
           },
           {
            "count": 7,
            "name": "7 others"
           }
          ],
          "nan_count": 0,
          "unique_count": 9
         }
        },
        {
         "dtype": "object",
         "name": "Fahad Mehmood",
         "stats": {
          "categories": [
           {
            "count": 3,
            "name": "0.0"
           },
           {
            "count": 1,
            "name": "15.92"
           },
           {
            "count": 5,
            "name": "5 others"
           }
          ],
          "nan_count": 0,
          "unique_count": 7
         }
        },
        {
         "dtype": "object",
         "name": "Burhan Ali",
         "stats": {
          "categories": [
           {
            "count": 8,
            "name": "0.0"
           },
           {
            "count": 1,
            "name": "103.22"
           }
          ],
          "nan_count": 0,
          "unique_count": 2
         }
        },
        {
         "dtype": "object",
         "name": "Ghulam Ali  ",
         "stats": {
          "categories": [
           {
            "count": 8,
            "name": "0.0"
           },
           {
            "count": 1,
            "name": "23.83"
           }
          ],
          "nan_count": 0,
          "unique_count": 2
         }
        },
        {
         "dtype": "object",
         "name": "Abdulkarim Ahmed ",
         "stats": {
          "categories": [
           {
            "count": 2,
            "name": "0.0"
           },
           {
            "count": 1,
            "name": "9.97"
           },
           {
            "count": 6,
            "name": "6 others"
           }
          ],
          "nan_count": 0,
          "unique_count": 8
         }
        },
        {
         "dtype": "object",
         "name": "Muhammad Awais ",
         "stats": {
          "categories": [
           {
            "count": 7,
            "name": "0.0"
           },
           {
            "count": 1,
            "name": "0.22"
           },
           {
            "count": 1,
            "name": "26.3"
           }
          ],
          "nan_count": 0,
          "unique_count": 3
         }
        },
        {
         "dtype": "object",
         "name": "Sanawar Shahzad ",
         "stats": {
          "categories": [
           {
            "count": 8,
            "name": "0.0"
           },
           {
            "count": 1,
            "name": "10.63"
           }
          ],
          "nan_count": 0,
          "unique_count": 2
         }
        },
        {
         "dtype": "object",
         "name": "Hamza Iftikhar ",
         "stats": {
          "categories": [
           {
            "count": 4,
            "name": "0.0"
           },
           {
            "count": 1,
            "name": "22.17"
           },
           {
            "count": 4,
            "name": "4 others"
           }
          ],
          "nan_count": 0,
          "unique_count": 6
         }
        },
        {
         "dtype": "object",
         "name": "Waleed Ahmad",
         "stats": {
          "categories": [
           {
            "count": 2,
            "name": "0.0"
           },
           {
            "count": 1,
            "name": "110.57"
           },
           {
            "count": 6,
            "name": "6 others"
           }
          ],
          "nan_count": 0,
          "unique_count": 8
         }
        },
        {
         "dtype": "object",
         "name": "Jamshed Iqbal",
         "stats": {
          "categories": [
           {
            "count": 2,
            "name": "0.0"
           },
           {
            "count": 1,
            "name": "97.53"
           },
           {
            "count": 6,
            "name": "6 others"
           }
          ],
          "nan_count": 0,
          "unique_count": 8
         }
        },
        {
         "dtype": "object",
         "name": "Muhammad Abdullah Habib",
         "stats": {
          "categories": [
           {
            "count": 8,
            "name": "0.0"
           },
           {
            "count": 1,
            "name": "38.15"
           }
          ],
          "nan_count": 0,
          "unique_count": 2
         }
        },
        {
         "dtype": "object",
         "name": "Shuja Ali Saleemuddin",
         "stats": {
          "categories": [
           {
            "count": 8,
            "name": "0.0"
           },
           {
            "count": 1,
            "name": "89.9"
           }
          ],
          "nan_count": 0,
          "unique_count": 2
         }
        },
        {
         "dtype": "object",
         "name": "_deepnote_index_column"
        }
       ],
       "row_count": 9,
       "rows": [
        {
         "Abdul Haseeb": "16.58",
         "Abdul Qudoos": "34.35",
         "Abdulkarim Ahmed ": "9.97",
         "Ahmed Raza": "18.33",
         "Beenish": "18.72",
         "Burhan Ali": "0.0",
         "Fahad Mehmood": "15.92",
         "Fahad Sajjad": "16.9",
         "Ghulam Ali  ": "23.83",
         "Hamza": "27.85",
         "Hamza Iftikhar ": "22.17",
         "Jamshed Iqbal": "0.0",
         "Mohsin Najam": "20.75",
         "Mohtashim Ali": "27.92",
         "Muhammad Abdullah Habib": "0.0",
         "Muhammad Awais ": "0.22",
         "Muhammad Ukkasha": "17.67",
         "Muneeb": "0.0",
         "Nasreen": "27.13",
         "Sanawar Shahzad ": "10.63",
         "Shuja Ali Saleemuddin": "0.0",
         "Waleed Ahmad": "0.0",
         "Waqas Rahman": "23.23",
         "_deepnote_index_column": "Mar 19",
         "shahab": "22.58"
        },
        {
         "Abdul Haseeb": "2.17",
         "Abdul Qudoos": "34.4",
         "Abdulkarim Ahmed ": "0.0",
         "Ahmed Raza": "83.85",
         "Beenish": "30.55",
         "Burhan Ali": "103.22",
         "Fahad Mehmood": "41.3",
         "Fahad Sajjad": "53.02",
         "Ghulam Ali  ": "0.0",
         "Hamza": "24.43",
         "Hamza Iftikhar ": "0.0",
         "Jamshed Iqbal": "0.0",
         "Mohsin Najam": "86.95",
         "Mohtashim Ali": "16.33",
         "Muhammad Abdullah Habib": "0.0",
         "Muhammad Awais ": "0.0",
         "Muhammad Ukkasha": "82.62",
         "Muneeb": "79.53",
         "Nasreen": "92.83",
         "Sanawar Shahzad ": "0.0",
         "Shuja Ali Saleemuddin": "0.0",
         "Waleed Ahmad": "0.0",
         "Waqas Rahman": "30.83",
         "_deepnote_index_column": "Mar 20",
         "shahab": "73.77"
        },
        {
         "Abdul Haseeb": "95.27",
         "Abdul Qudoos": "101.67",
         "Abdulkarim Ahmed ": "89.18",
         "Ahmed Raza": "129.08",
         "Beenish": "110.12",
         "Burhan Ali": "0.0",
         "Fahad Mehmood": "55.82",
         "Fahad Sajjad": "61.95",
         "Ghulam Ali  ": "0.0",
         "Hamza": "123.1",
         "Hamza Iftikhar ": "0.0",
         "Jamshed Iqbal": "97.53",
         "Mohsin Najam": "118.02",
         "Mohtashim Ali": "97.27",
         "Muhammad Abdullah Habib": "0.0",
         "Muhammad Awais ": "0.0",
         "Muhammad Ukkasha": "114.95",
         "Muneeb": "103.55",
         "Nasreen": "113.8",
         "Sanawar Shahzad ": "0.0",
         "Shuja Ali Saleemuddin": "0.0",
         "Waleed Ahmad": "110.57",
         "Waqas Rahman": "104.02",
         "_deepnote_index_column": "Mar 26",
         "shahab": "114.05"
        },
        {
         "Abdul Haseeb": "10.83",
         "Abdul Qudoos": "59.6",
         "Abdulkarim Ahmed ": "76.62",
         "Ahmed Raza": "90.52",
         "Beenish": "92.4",
         "Burhan Ali": "0.0",
         "Fahad Mehmood": "0.0",
         "Fahad Sajjad": "96.47",
         "Ghulam Ali  ": "0.0",
         "Hamza": "33.08",
         "Hamza Iftikhar ": "0.0",
         "Jamshed Iqbal": "93.35",
         "Mohsin Najam": "91.15",
         "Mohtashim Ali": "0.0",
         "Muhammad Abdullah Habib": "38.15",
         "Muhammad Awais ": "0.0",
         "Muhammad Ukkasha": "92.77",
         "Muneeb": "77.3",
         "Nasreen": "92.15",
         "Sanawar Shahzad ": "0.0",
         "Shuja Ali Saleemuddin": "89.9",
         "Waleed Ahmad": "93.63",
         "Waqas Rahman": "90.62",
         "_deepnote_index_column": "Mar 27",
         "shahab": "69.02"
        },
        {
         "Abdul Haseeb": "106.5",
         "Abdul Qudoos": "6.6",
         "Abdulkarim Ahmed ": "0.0",
         "Ahmed Raza": "110.3",
         "Beenish": "94.7",
         "Burhan Ali": "0.0",
         "Fahad Mehmood": "72.42",
         "Fahad Sajjad": "90.92",
         "Ghulam Ali  ": "0.0",
         "Hamza": "61.17",
         "Hamza Iftikhar ": "64.25",
         "Jamshed Iqbal": "109.47",
         "Mohsin Najam": "112.37",
         "Mohtashim Ali": "113.32",
         "Muhammad Abdullah Habib": "0.0",
         "Muhammad Awais ": "0.0",
         "Muhammad Ukkasha": "108.35",
         "Muneeb": "102.58",
         "Nasreen": "114.63",
         "Sanawar Shahzad ": "0.0",
         "Shuja Ali Saleemuddin": "0.0",
         "Waleed Ahmad": "10.8",
         "Waqas Rahman": "106.75",
         "_deepnote_index_column": "Apr 2",
         "shahab": "133.92"
        },
        {
         "Abdul Haseeb": "94.5",
         "Abdul Qudoos": "30.83",
         "Abdulkarim Ahmed ": "78.17",
         "Ahmed Raza": "113.45",
         "Beenish": "113.28",
         "Burhan Ali": "0.0",
         "Fahad Mehmood": "19.25",
         "Fahad Sajjad": "15.13",
         "Ghulam Ali  ": "0.0",
         "Hamza": "0.0",
         "Hamza Iftikhar ": "108.5",
         "Jamshed Iqbal": "109.25",
         "Mohsin Najam": "107.67",
         "Mohtashim Ali": "109.87",
         "Muhammad Abdullah Habib": "0.0",
         "Muhammad Awais ": "26.3",
         "Muhammad Ukkasha": "102.93",
         "Muneeb": "0.0",
         "Nasreen": "119.45",
         "Sanawar Shahzad ": "0.0",
         "Shuja Ali Saleemuddin": "0.0",
         "Waleed Ahmad": "105.23",
         "Waqas Rahman": "120.38",
         "_deepnote_index_column": "Apr 3",
         "shahab": "116.33"
        },
        {
         "Abdul Haseeb": "113.33",
         "Abdul Qudoos": "8.5",
         "Abdulkarim Ahmed ": "96.72",
         "Ahmed Raza": "96.22",
         "Beenish": "115.22",
         "Burhan Ali": "0.0",
         "Fahad Mehmood": "19.27",
         "Fahad Sajjad": "103.02",
         "Ghulam Ali  ": "0.0",
         "Hamza": "37.48",
         "Hamza Iftikhar ": "104.47",
         "Jamshed Iqbal": "104.83",
         "Mohsin Najam": "112.67",
         "Mohtashim Ali": "112.93",
         "Muhammad Abdullah Habib": "0.0",
         "Muhammad Awais ": "0.0",
         "Muhammad Ukkasha": "0.75",
         "Muneeb": "111.33",
         "Nasreen": "45.95",
         "Sanawar Shahzad ": "0.0",
         "Shuja Ali Saleemuddin": "0.0",
         "Waleed Ahmad": "114.72",
         "Waqas Rahman": "109.67",
         "_deepnote_index_column": "Apr 9",
         "shahab": "102.55"
        },
        {
         "Abdul Haseeb": "94.83",
         "Abdul Qudoos": "12.17",
         "Abdulkarim Ahmed ": "1.07",
         "Ahmed Raza": "97.75",
         "Beenish": "109.0",
         "Burhan Ali": "0.0",
         "Fahad Mehmood": "0.0",
         "Fahad Sajjad": "57.23",
         "Ghulam Ali  ": "0.0",
         "Hamza": "87.25",
         "Hamza Iftikhar ": "0.0",
         "Jamshed Iqbal": "89.22",
         "Mohsin Najam": "83.15",
         "Mohtashim Ali": "111.65",
         "Muhammad Abdullah Habib": "0.0",
         "Muhammad Awais ": "0.0",
         "Muhammad Ukkasha": "71.98",
         "Muneeb": "103.17",
         "Nasreen": "113.58",
         "Sanawar Shahzad ": "0.0",
         "Shuja Ali Saleemuddin": "0.0",
         "Waleed Ahmad": "113.03",
         "Waqas Rahman": "108.93",
         "_deepnote_index_column": "Apr 10",
         "shahab": "110.58"
        },
        {
         "Abdul Haseeb": "94.92",
         "Abdul Qudoos": "10.43",
         "Abdulkarim Ahmed ": "104.72",
         "Ahmed Raza": "99.65",
         "Beenish": "116.25",
         "Burhan Ali": "0.0",
         "Fahad Mehmood": "0.0",
         "Fahad Sajjad": "0.0",
         "Ghulam Ali  ": "0.0",
         "Hamza": "26.75",
         "Hamza Iftikhar ": "127.0",
         "Jamshed Iqbal": "95.18",
         "Mohsin Najam": "0.0",
         "Mohtashim Ali": "116.53",
         "Muhammad Abdullah Habib": "0.0",
         "Muhammad Awais ": "0.0",
         "Muhammad Ukkasha": "49.6",
         "Muneeb": "109.92",
         "Nasreen": "117.92",
         "Sanawar Shahzad ": "0.0",
         "Shuja Ali Saleemuddin": "0.0",
         "Waleed Ahmad": "94.08",
         "Waqas Rahman": "116.08",
         "_deepnote_index_column": "Apr 17",
         "shahab": "128.85"
        }
       ]
      },
      "text/html": [
       "<div>\n",
       "<style scoped>\n",
       "    .dataframe tbody tr th:only-of-type {\n",
       "        vertical-align: middle;\n",
       "    }\n",
       "\n",
       "    .dataframe tbody tr th {\n",
       "        vertical-align: top;\n",
       "    }\n",
       "\n",
       "    .dataframe thead th {\n",
       "        text-align: right;\n",
       "    }\n",
       "</style>\n",
       "<table border=\"1\" class=\"dataframe\">\n",
       "  <thead>\n",
       "    <tr style=\"text-align: right;\">\n",
       "      <th>Names</th>\n",
       "      <th>Mohtashim Ali</th>\n",
       "      <th>Muneeb</th>\n",
       "      <th>Nasreen</th>\n",
       "      <th>Abdul Haseeb</th>\n",
       "      <th>Mohsin Najam</th>\n",
       "      <th>Hamza</th>\n",
       "      <th>Waqas Rahman</th>\n",
       "      <th>Abdul Qudoos</th>\n",
       "      <th>Beenish</th>\n",
       "      <th>Ahmed Raza</th>\n",
       "      <th>...</th>\n",
       "      <th>Burhan Ali</th>\n",
       "      <th>Ghulam Ali</th>\n",
       "      <th>Abdulkarim Ahmed</th>\n",
       "      <th>Muhammad Awais</th>\n",
       "      <th>Sanawar Shahzad</th>\n",
       "      <th>Hamza Iftikhar</th>\n",
       "      <th>Waleed Ahmad</th>\n",
       "      <th>Jamshed Iqbal</th>\n",
       "      <th>Muhammad Abdullah Habib</th>\n",
       "      <th>Shuja Ali Saleemuddin</th>\n",
       "    </tr>\n",
       "  </thead>\n",
       "  <tbody>\n",
       "    <tr>\n",
       "      <th>Mar 19</th>\n",
       "      <td>27.92</td>\n",
       "      <td>0.0</td>\n",
       "      <td>27.13</td>\n",
       "      <td>16.58</td>\n",
       "      <td>20.75</td>\n",
       "      <td>27.85</td>\n",
       "      <td>23.23</td>\n",
       "      <td>34.35</td>\n",
       "      <td>18.72</td>\n",
       "      <td>18.33</td>\n",
       "      <td>...</td>\n",
       "      <td>0.0</td>\n",
       "      <td>23.83</td>\n",
       "      <td>9.97</td>\n",
       "      <td>0.22</td>\n",
       "      <td>10.63</td>\n",
       "      <td>22.17</td>\n",
       "      <td>0.0</td>\n",
       "      <td>0.0</td>\n",
       "      <td>0.0</td>\n",
       "      <td>0.0</td>\n",
       "    </tr>\n",
       "    <tr>\n",
       "      <th>Mar 20</th>\n",
       "      <td>16.33</td>\n",
       "      <td>79.53</td>\n",
       "      <td>92.83</td>\n",
       "      <td>2.17</td>\n",
       "      <td>86.95</td>\n",
       "      <td>24.43</td>\n",
       "      <td>30.83</td>\n",
       "      <td>34.4</td>\n",
       "      <td>30.55</td>\n",
       "      <td>83.85</td>\n",
       "      <td>...</td>\n",
       "      <td>103.22</td>\n",
       "      <td>0.0</td>\n",
       "      <td>0.0</td>\n",
       "      <td>0.0</td>\n",
       "      <td>0.0</td>\n",
       "      <td>0.0</td>\n",
       "      <td>0.0</td>\n",
       "      <td>0.0</td>\n",
       "      <td>0.0</td>\n",
       "      <td>0.0</td>\n",
       "    </tr>\n",
       "    <tr>\n",
       "      <th>Mar 26</th>\n",
       "      <td>97.27</td>\n",
       "      <td>103.55</td>\n",
       "      <td>113.8</td>\n",
       "      <td>95.27</td>\n",
       "      <td>118.02</td>\n",
       "      <td>123.1</td>\n",
       "      <td>104.02</td>\n",
       "      <td>101.67</td>\n",
       "      <td>110.12</td>\n",
       "      <td>129.08</td>\n",
       "      <td>...</td>\n",
       "      <td>0.0</td>\n",
       "      <td>0.0</td>\n",
       "      <td>89.18</td>\n",
       "      <td>0.0</td>\n",
       "      <td>0.0</td>\n",
       "      <td>0.0</td>\n",
       "      <td>110.57</td>\n",
       "      <td>97.53</td>\n",
       "      <td>0.0</td>\n",
       "      <td>0.0</td>\n",
       "    </tr>\n",
       "    <tr>\n",
       "      <th>Mar 27</th>\n",
       "      <td>0.0</td>\n",
       "      <td>77.3</td>\n",
       "      <td>92.15</td>\n",
       "      <td>10.83</td>\n",
       "      <td>91.15</td>\n",
       "      <td>33.08</td>\n",
       "      <td>90.62</td>\n",
       "      <td>59.6</td>\n",
       "      <td>92.4</td>\n",
       "      <td>90.52</td>\n",
       "      <td>...</td>\n",
       "      <td>0.0</td>\n",
       "      <td>0.0</td>\n",
       "      <td>76.62</td>\n",
       "      <td>0.0</td>\n",
       "      <td>0.0</td>\n",
       "      <td>0.0</td>\n",
       "      <td>93.63</td>\n",
       "      <td>93.35</td>\n",
       "      <td>38.15</td>\n",
       "      <td>89.9</td>\n",
       "    </tr>\n",
       "    <tr>\n",
       "      <th>Apr 2</th>\n",
       "      <td>113.32</td>\n",
       "      <td>102.58</td>\n",
       "      <td>114.63</td>\n",
       "      <td>106.5</td>\n",
       "      <td>112.37</td>\n",
       "      <td>61.17</td>\n",
       "      <td>106.75</td>\n",
       "      <td>6.6</td>\n",
       "      <td>94.7</td>\n",
       "      <td>110.3</td>\n",
       "      <td>...</td>\n",
       "      <td>0.0</td>\n",
       "      <td>0.0</td>\n",
       "      <td>0.0</td>\n",
       "      <td>0.0</td>\n",
       "      <td>0.0</td>\n",
       "      <td>64.25</td>\n",
       "      <td>10.8</td>\n",
       "      <td>109.47</td>\n",
       "      <td>0.0</td>\n",
       "      <td>0.0</td>\n",
       "    </tr>\n",
       "    <tr>\n",
       "      <th>Apr 3</th>\n",
       "      <td>109.87</td>\n",
       "      <td>0.0</td>\n",
       "      <td>119.45</td>\n",
       "      <td>94.5</td>\n",
       "      <td>107.67</td>\n",
       "      <td>0.0</td>\n",
       "      <td>120.38</td>\n",
       "      <td>30.83</td>\n",
       "      <td>113.28</td>\n",
       "      <td>113.45</td>\n",
       "      <td>...</td>\n",
       "      <td>0.0</td>\n",
       "      <td>0.0</td>\n",
       "      <td>78.17</td>\n",
       "      <td>26.3</td>\n",
       "      <td>0.0</td>\n",
       "      <td>108.5</td>\n",
       "      <td>105.23</td>\n",
       "      <td>109.25</td>\n",
       "      <td>0.0</td>\n",
       "      <td>0.0</td>\n",
       "    </tr>\n",
       "    <tr>\n",
       "      <th>Apr 9</th>\n",
       "      <td>112.93</td>\n",
       "      <td>111.33</td>\n",
       "      <td>45.95</td>\n",
       "      <td>113.33</td>\n",
       "      <td>112.67</td>\n",
       "      <td>37.48</td>\n",
       "      <td>109.67</td>\n",
       "      <td>8.5</td>\n",
       "      <td>115.22</td>\n",
       "      <td>96.22</td>\n",
       "      <td>...</td>\n",
       "      <td>0.0</td>\n",
       "      <td>0.0</td>\n",
       "      <td>96.72</td>\n",
       "      <td>0.0</td>\n",
       "      <td>0.0</td>\n",
       "      <td>104.47</td>\n",
       "      <td>114.72</td>\n",
       "      <td>104.83</td>\n",
       "      <td>0.0</td>\n",
       "      <td>0.0</td>\n",
       "    </tr>\n",
       "    <tr>\n",
       "      <th>Apr 10</th>\n",
       "      <td>111.65</td>\n",
       "      <td>103.17</td>\n",
       "      <td>113.58</td>\n",
       "      <td>94.83</td>\n",
       "      <td>83.15</td>\n",
       "      <td>87.25</td>\n",
       "      <td>108.93</td>\n",
       "      <td>12.17</td>\n",
       "      <td>109.0</td>\n",
       "      <td>97.75</td>\n",
       "      <td>...</td>\n",
       "      <td>0.0</td>\n",
       "      <td>0.0</td>\n",
       "      <td>1.07</td>\n",
       "      <td>0.0</td>\n",
       "      <td>0.0</td>\n",
       "      <td>0.0</td>\n",
       "      <td>113.03</td>\n",
       "      <td>89.22</td>\n",
       "      <td>0.0</td>\n",
       "      <td>0.0</td>\n",
       "    </tr>\n",
       "    <tr>\n",
       "      <th>Apr 17</th>\n",
       "      <td>116.53</td>\n",
       "      <td>109.92</td>\n",
       "      <td>117.92</td>\n",
       "      <td>94.92</td>\n",
       "      <td>0.0</td>\n",
       "      <td>26.75</td>\n",
       "      <td>116.08</td>\n",
       "      <td>10.43</td>\n",
       "      <td>116.25</td>\n",
       "      <td>99.65</td>\n",
       "      <td>...</td>\n",
       "      <td>0.0</td>\n",
       "      <td>0.0</td>\n",
       "      <td>104.72</td>\n",
       "      <td>0.0</td>\n",
       "      <td>0.0</td>\n",
       "      <td>127.0</td>\n",
       "      <td>94.08</td>\n",
       "      <td>95.18</td>\n",
       "      <td>0.0</td>\n",
       "      <td>0.0</td>\n",
       "    </tr>\n",
       "  </tbody>\n",
       "</table>\n",
       "<p>9 rows × 24 columns</p>\n",
       "</div>"
      ],
      "text/plain": [
       "Names  Mohtashim Ali  Muneeb Nasreen Abdul Haseeb Mohsin Najam  Hamza  \\\n",
       "Mar 19         27.92     0.0   27.13        16.58        20.75  27.85   \n",
       "Mar 20         16.33   79.53   92.83         2.17        86.95  24.43   \n",
       "Mar 26         97.27  103.55   113.8        95.27       118.02  123.1   \n",
       "Mar 27           0.0    77.3   92.15        10.83        91.15  33.08   \n",
       "Apr 2         113.32  102.58  114.63        106.5       112.37  61.17   \n",
       "Apr 3         109.87     0.0  119.45         94.5       107.67    0.0   \n",
       "Apr 9         112.93  111.33   45.95       113.33       112.67  37.48   \n",
       "Apr 10        111.65  103.17  113.58        94.83        83.15  87.25   \n",
       "Apr 17        116.53  109.92  117.92        94.92          0.0  26.75   \n",
       "\n",
       "Names  Waqas Rahman Abdul Qudoos Beenish Ahmed Raza  ... Burhan Ali  \\\n",
       "Mar 19        23.23        34.35   18.72      18.33  ...        0.0   \n",
       "Mar 20        30.83         34.4   30.55      83.85  ...     103.22   \n",
       "Mar 26       104.02       101.67  110.12     129.08  ...        0.0   \n",
       "Mar 27        90.62         59.6    92.4      90.52  ...        0.0   \n",
       "Apr 2        106.75          6.6    94.7      110.3  ...        0.0   \n",
       "Apr 3        120.38        30.83  113.28     113.45  ...        0.0   \n",
       "Apr 9        109.67          8.5  115.22      96.22  ...        0.0   \n",
       "Apr 10       108.93        12.17   109.0      97.75  ...        0.0   \n",
       "Apr 17       116.08        10.43  116.25      99.65  ...        0.0   \n",
       "\n",
       "Names  Ghulam Ali   Abdulkarim Ahmed  Muhammad Awais  Sanawar Shahzad   \\\n",
       "Mar 19        23.83              9.97            0.22            10.63   \n",
       "Mar 20          0.0               0.0             0.0              0.0   \n",
       "Mar 26          0.0             89.18             0.0              0.0   \n",
       "Mar 27          0.0             76.62             0.0              0.0   \n",
       "Apr 2           0.0               0.0             0.0              0.0   \n",
       "Apr 3           0.0             78.17            26.3              0.0   \n",
       "Apr 9           0.0             96.72             0.0              0.0   \n",
       "Apr 10          0.0              1.07             0.0              0.0   \n",
       "Apr 17          0.0            104.72             0.0              0.0   \n",
       "\n",
       "Names  Hamza Iftikhar  Waleed Ahmad Jamshed Iqbal Muhammad Abdullah Habib  \\\n",
       "Mar 19           22.17          0.0           0.0                     0.0   \n",
       "Mar 20             0.0          0.0           0.0                     0.0   \n",
       "Mar 26             0.0       110.57         97.53                     0.0   \n",
       "Mar 27             0.0        93.63         93.35                   38.15   \n",
       "Apr 2            64.25         10.8        109.47                     0.0   \n",
       "Apr 3            108.5       105.23        109.25                     0.0   \n",
       "Apr 9           104.47       114.72        104.83                     0.0   \n",
       "Apr 10             0.0       113.03         89.22                     0.0   \n",
       "Apr 17           127.0        94.08         95.18                     0.0   \n",
       "\n",
       "Names  Shuja Ali Saleemuddin  \n",
       "Mar 19                   0.0  \n",
       "Mar 20                   0.0  \n",
       "Mar 26                   0.0  \n",
       "Mar 27                  89.9  \n",
       "Apr 2                    0.0  \n",
       "Apr 3                    0.0  \n",
       "Apr 9                    0.0  \n",
       "Apr 10                   0.0  \n",
       "Apr 17                   0.0  \n",
       "\n",
       "[9 rows x 24 columns]"
      ]
     },
     "execution_count": 11,
     "metadata": {},
     "output_type": "execute_result"
    }
   ],
   "source": [
    "data_frame_T = data_frame.T\n",
    "\n",
    "data_frame_T.columns = data_frame_T.iloc[0]\n",
    "data_frame_T = data_frame_T.drop(data_frame_T.index[0])\n",
    "\n",
    "\n",
    "# changing index names\n",
    "data_frame_T.index = ['Mar 19', 'Mar 20', 'Mar 26', 'Mar 27', 'Apr 2', 'Apr 3', 'Apr 9', 'Apr 10', 'Apr 17']\n",
    "\n",
    "\n",
    "data_frame_T"
   ]
  },
  {
   "cell_type": "markdown",
   "metadata": {
    "cell_id": "55c603ef77194a4eae90ac3fd0101bd5",
    "deepnote_app_coordinates": {
     "h": 5,
     "w": 12,
     "x": 0,
     "y": 0
    },
    "deepnote_cell_type": "text-cell-h2",
    "formattedRanges": [],
    "is_collapsed": false,
    "tags": []
   },
   "source": [
    "## Calculating churn rate based on time spent of student."
   ]
  },
  {
   "cell_type": "code",
   "execution_count": 12,
   "metadata": {
    "cell_id": "b934657cb86346b69f8f437cbfd06889",
    "deepnote_app_coordinates": {
     "h": 5,
     "w": 12,
     "x": 0,
     "y": 91
    },
    "deepnote_cell_type": "code",
    "deepnote_to_be_reexecuted": false,
    "execution_millis": 74,
    "execution_start": 1677998029768,
    "owner_user_id": "59324afd-09e4-4334-ba4f-e4b7c3e6a4a0",
    "source_hash": "59ea8cb4",
    "tags": []
   },
   "outputs": [],
   "source": [
    "# Fill in missing values with 10, unless the sum of the row is zero\n",
    "for i in range(data_frame_T.shape[0]):   # rows\n",
    "    for j in range(len(data_frame_T.columns)): # columns\n",
    "        if data_frame_T.iloc[i::, j].sum() != 0:\n",
    "            if data_frame_T.iloc[i, j] < 10:\n",
    "                data_frame_T.iloc[i, j] = 10\n",
    "\n",
    "# replacing zeros for students who have a time spent of more than 300 minutes\n",
    "for i in range(len(data_frame_T.columns)):\n",
    "    if (data_frame_T.iloc[0::, i].sum()) > 300:\n",
    "        data_frame_T.iloc[0::, i] = data_frame_T.iloc[0::, i].replace(0, 10)\n",
    "\n",
    "\n",
    "# Number of registered clients\n",
    "registered_clients = data_frame.Names.count()\n",
    "\n",
    "# Calculating retention rates\n",
    "rates = []\n",
    "for i in range(data_frame_T.shape[0]):\n",
    "    rates.append(round((((data_frame_T.iloc[i] != 0).value_counts()[True])/registered_clients)*100,0))\n",
    "\n",
    "data_frame_T[\"Retention Rates\"] = rates"
   ]
  },
  {
   "cell_type": "code",
   "execution_count": 13,
   "metadata": {
    "cell_id": "c937585b295d4382a6843a65eba94db1",
    "deepnote_app_coordinates": {
     "h": 5,
     "w": 12,
     "x": 0,
     "y": 103
    },
    "deepnote_cell_type": "code",
    "deepnote_to_be_reexecuted": false,
    "execution_millis": 2,
    "execution_start": 1677998029886,
    "source_hash": "2feb1335",
    "tags": []
   },
   "outputs": [
    {
     "data": {
      "application/vnd.deepnote.dataframe.v3+json": {
       "column_count": 25,
       "columns": [
        {
         "dtype": "object",
         "name": "Mohtashim Ali",
         "stats": {
          "categories": [
           {
            "count": 1,
            "name": "27.92"
           },
           {
            "count": 1,
            "name": "16.33"
           },
           {
            "count": 7,
            "name": "7 others"
           }
          ],
          "nan_count": 0,
          "unique_count": 9
         }
        },
        {
         "dtype": "object",
         "name": "Muneeb",
         "stats": {
          "categories": [
           {
            "count": 2,
            "name": "10.0"
           },
           {
            "count": 1,
            "name": "79.53"
           },
           {
            "count": 6,
            "name": "6 others"
           }
          ],
          "nan_count": 0,
          "unique_count": 8
         }
        },
        {
         "dtype": "object",
         "name": "Nasreen",
         "stats": {
          "categories": [
           {
            "count": 1,
            "name": "27.13"
           },
           {
            "count": 1,
            "name": "92.83"
           },
           {
            "count": 7,
            "name": "7 others"
           }
          ],
          "nan_count": 0,
          "unique_count": 9
         }
        },
        {
         "dtype": "object",
         "name": "Abdul Haseeb",
         "stats": {
          "categories": [
           {
            "count": 1,
            "name": "16.58"
           },
           {
            "count": 1,
            "name": "10.0"
           },
           {
            "count": 7,
            "name": "7 others"
           }
          ],
          "nan_count": 0,
          "unique_count": 9
         }
        },
        {
         "dtype": "object",
         "name": "Mohsin Najam",
         "stats": {
          "categories": [
           {
            "count": 1,
            "name": "20.75"
           },
           {
            "count": 1,
            "name": "86.95"
           },
           {
            "count": 7,
            "name": "7 others"
           }
          ],
          "nan_count": 0,
          "unique_count": 9
         }
        },
        {
         "dtype": "object",
         "name": "Hamza",
         "stats": {
          "categories": [
           {
            "count": 1,
            "name": "27.85"
           },
           {
            "count": 1,
            "name": "24.43"
           },
           {
            "count": 7,
            "name": "7 others"
           }
          ],
          "nan_count": 0,
          "unique_count": 9
         }
        },
        {
         "dtype": "object",
         "name": "Waqas Rahman",
         "stats": {
          "categories": [
           {
            "count": 1,
            "name": "23.23"
           },
           {
            "count": 1,
            "name": "30.83"
           },
           {
            "count": 7,
            "name": "7 others"
           }
          ],
          "nan_count": 0,
          "unique_count": 9
         }
        },
        {
         "dtype": "object",
         "name": "Abdul Qudoos",
         "stats": {
          "categories": [
           {
            "count": 2,
            "name": "10.0"
           },
           {
            "count": 1,
            "name": "34.35"
           },
           {
            "count": 6,
            "name": "6 others"
           }
          ],
          "nan_count": 0,
          "unique_count": 8
         }
        },
        {
         "dtype": "object",
         "name": "Beenish",
         "stats": {
          "categories": [
           {
            "count": 1,
            "name": "18.72"
           },
           {
            "count": 1,
            "name": "30.55"
           },
           {
            "count": 7,
            "name": "7 others"
           }
          ],
          "nan_count": 0,
          "unique_count": 9
         }
        },
        {
         "dtype": "object",
         "name": "Ahmed Raza",
         "stats": {
          "categories": [
           {
            "count": 1,
            "name": "18.33"
           },
           {
            "count": 1,
            "name": "83.85"
           },
           {
            "count": 7,
            "name": "7 others"
           }
          ],
          "nan_count": 0,
          "unique_count": 9
         }
        },
        {
         "dtype": "object",
         "name": "Fahad Sajjad",
         "stats": {
          "categories": [
           {
            "count": 1,
            "name": "16.9"
           },
           {
            "count": 1,
            "name": "53.02"
           },
           {
            "count": 7,
            "name": "7 others"
           }
          ],
          "nan_count": 0,
          "unique_count": 9
         }
        },
        {
         "dtype": "object",
         "name": "Muhammad Ukkasha",
         "stats": {
          "categories": [
           {
            "count": 1,
            "name": "17.67"
           },
           {
            "count": 1,
            "name": "82.62"
           },
           {
            "count": 7,
            "name": "7 others"
           }
          ],
          "nan_count": 0,
          "unique_count": 9
         }
        },
        {
         "dtype": "object",
         "name": "shahab",
         "stats": {
          "categories": [
           {
            "count": 1,
            "name": "22.58"
           },
           {
            "count": 1,
            "name": "73.77"
           },
           {
            "count": 7,
            "name": "7 others"
           }
          ],
          "nan_count": 0,
          "unique_count": 9
         }
        },
        {
         "dtype": "object",
         "name": "Fahad Mehmood",
         "stats": {
          "categories": [
           {
            "count": 2,
            "name": "0.0"
           },
           {
            "count": 1,
            "name": "15.92"
           },
           {
            "count": 6,
            "name": "6 others"
           }
          ],
          "nan_count": 0,
          "unique_count": 8
         }
        },
        {
         "dtype": "object",
         "name": "Burhan Ali",
         "stats": {
          "categories": [
           {
            "count": 7,
            "name": "0.0"
           },
           {
            "count": 1,
            "name": "10.0"
           },
           {
            "count": 1,
            "name": "103.22"
           }
          ],
          "nan_count": 0,
          "unique_count": 3
         }
        },
        {
         "dtype": "object",
         "name": "Ghulam Ali  ",
         "stats": {
          "categories": [
           {
            "count": 8,
            "name": "0.0"
           },
           {
            "count": 1,
            "name": "23.83"
           }
          ],
          "nan_count": 0,
          "unique_count": 2
         }
        },
        {
         "dtype": "object",
         "name": "Abdulkarim Ahmed ",
         "stats": {
          "categories": [
           {
            "count": 4,
            "name": "10.0"
           },
           {
            "count": 1,
            "name": "89.18"
           },
           {
            "count": 4,
            "name": "4 others"
           }
          ],
          "nan_count": 0,
          "unique_count": 6
         }
        },
        {
         "dtype": "object",
         "name": "Muhammad Awais ",
         "stats": {
          "categories": [
           {
            "count": 5,
            "name": "10.0"
           },
           {
            "count": 3,
            "name": "0.0"
           },
           {
            "count": 1,
            "name": "26.3"
           }
          ],
          "nan_count": 0,
          "unique_count": 3
         }
        },
        {
         "dtype": "object",
         "name": "Sanawar Shahzad ",
         "stats": {
          "categories": [
           {
            "count": 8,
            "name": "0.0"
           },
           {
            "count": 1,
            "name": "10.63"
           }
          ],
          "nan_count": 0,
          "unique_count": 2
         }
        },
        {
         "dtype": "object",
         "name": "Hamza Iftikhar ",
         "stats": {
          "categories": [
           {
            "count": 4,
            "name": "10.0"
           },
           {
            "count": 1,
            "name": "22.17"
           },
           {
            "count": 4,
            "name": "4 others"
           }
          ],
          "nan_count": 0,
          "unique_count": 6
         }
        },
        {
         "dtype": "object",
         "name": "Waleed Ahmad",
         "stats": {
          "categories": [
           {
            "count": 2,
            "name": "10.0"
           },
           {
            "count": 1,
            "name": "110.57"
           },
           {
            "count": 6,
            "name": "6 others"
           }
          ],
          "nan_count": 0,
          "unique_count": 8
         }
        },
        {
         "dtype": "object",
         "name": "Jamshed Iqbal",
         "stats": {
          "categories": [
           {
            "count": 2,
            "name": "10.0"
           },
           {
            "count": 1,
            "name": "97.53"
           },
           {
            "count": 6,
            "name": "6 others"
           }
          ],
          "nan_count": 0,
          "unique_count": 8
         }
        },
        {
         "dtype": "object",
         "name": "Muhammad Abdullah Habib",
         "stats": {
          "categories": [
           {
            "count": 5,
            "name": "0.0"
           },
           {
            "count": 3,
            "name": "10.0"
           },
           {
            "count": 1,
            "name": "38.15"
           }
          ],
          "nan_count": 0,
          "unique_count": 3
         }
        },
        {
         "dtype": "object",
         "name": "Shuja Ali Saleemuddin",
         "stats": {
          "categories": [
           {
            "count": 5,
            "name": "0.0"
           },
           {
            "count": 3,
            "name": "10.0"
           },
           {
            "count": 1,
            "name": "89.9"
           }
          ],
          "nan_count": 0,
          "unique_count": 3
         }
        },
        {
         "dtype": "float64",
         "name": "Retention Rates",
         "stats": {
          "histogram": [
           {
            "bin_end": 73.9,
            "bin_start": 71,
            "count": 2
           },
           {
            "bin_end": 76.8,
            "bin_start": 73.9,
            "count": 1
           },
           {
            "bin_end": 79.7,
            "bin_start": 76.8,
            "count": 2
           },
           {
            "bin_end": 82.6,
            "bin_start": 79.7,
            "count": 0
           },
           {
            "bin_end": 85.5,
            "bin_start": 82.6,
            "count": 0
           },
           {
            "bin_end": 88.4,
            "bin_start": 85.5,
            "count": 2
           },
           {
            "bin_end": 91.3,
            "bin_start": 88.4,
            "count": 0
           },
           {
            "bin_end": 94.2,
            "bin_start": 91.3,
            "count": 1
           },
           {
            "bin_end": 97.1,
            "bin_start": 94.2,
            "count": 0
           },
           {
            "bin_end": 100,
            "bin_start": 97.1,
            "count": 1
           }
          ],
          "max": "100.0",
          "min": "71.0",
          "nan_count": 0,
          "unique_count": 6
         }
        },
        {
         "dtype": "object",
         "name": "_deepnote_index_column"
        }
       ],
       "row_count": 9,
       "rows": [
        {
         "Abdul Haseeb": "16.58",
         "Abdul Qudoos": "34.35",
         "Abdulkarim Ahmed ": "10",
         "Ahmed Raza": "18.33",
         "Beenish": "18.72",
         "Burhan Ali": "10",
         "Fahad Mehmood": "15.92",
         "Fahad Sajjad": "16.9",
         "Ghulam Ali  ": "23.83",
         "Hamza": "27.85",
         "Hamza Iftikhar ": "22.17",
         "Jamshed Iqbal": "10",
         "Mohsin Najam": "20.75",
         "Mohtashim Ali": "27.92",
         "Muhammad Abdullah Habib": "10",
         "Muhammad Awais ": "10",
         "Muhammad Ukkasha": "17.67",
         "Muneeb": "10",
         "Nasreen": "27.13",
         "Retention Rates": "100.0",
         "Sanawar Shahzad ": "10.63",
         "Shuja Ali Saleemuddin": "10",
         "Waleed Ahmad": "10",
         "Waqas Rahman": "23.23",
         "_deepnote_index_column": "Mar 19",
         "shahab": "22.58"
        },
        {
         "Abdul Haseeb": "10",
         "Abdul Qudoos": "34.4",
         "Abdulkarim Ahmed ": "10",
         "Ahmed Raza": "83.85",
         "Beenish": "30.55",
         "Burhan Ali": "103.22",
         "Fahad Mehmood": "41.3",
         "Fahad Sajjad": "53.02",
         "Ghulam Ali  ": "0.0",
         "Hamza": "24.43",
         "Hamza Iftikhar ": "10",
         "Jamshed Iqbal": "10",
         "Mohsin Najam": "86.95",
         "Mohtashim Ali": "16.33",
         "Muhammad Abdullah Habib": "10",
         "Muhammad Awais ": "10",
         "Muhammad Ukkasha": "82.62",
         "Muneeb": "79.53",
         "Nasreen": "92.83",
         "Retention Rates": "92.0",
         "Sanawar Shahzad ": "0.0",
         "Shuja Ali Saleemuddin": "10",
         "Waleed Ahmad": "10",
         "Waqas Rahman": "30.83",
         "_deepnote_index_column": "Mar 20",
         "shahab": "73.77"
        },
        {
         "Abdul Haseeb": "95.27",
         "Abdul Qudoos": "101.67",
         "Abdulkarim Ahmed ": "89.18",
         "Ahmed Raza": "129.08",
         "Beenish": "110.12",
         "Burhan Ali": "0.0",
         "Fahad Mehmood": "55.82",
         "Fahad Sajjad": "61.95",
         "Ghulam Ali  ": "0.0",
         "Hamza": "123.1",
         "Hamza Iftikhar ": "10",
         "Jamshed Iqbal": "97.53",
         "Mohsin Najam": "118.02",
         "Mohtashim Ali": "97.27",
         "Muhammad Abdullah Habib": "10",
         "Muhammad Awais ": "10",
         "Muhammad Ukkasha": "114.95",
         "Muneeb": "103.55",
         "Nasreen": "113.8",
         "Retention Rates": "88.0",
         "Sanawar Shahzad ": "0.0",
         "Shuja Ali Saleemuddin": "10",
         "Waleed Ahmad": "110.57",
         "Waqas Rahman": "104.02",
         "_deepnote_index_column": "Mar 26",
         "shahab": "114.05"
        },
        {
         "Abdul Haseeb": "10.83",
         "Abdul Qudoos": "59.6",
         "Abdulkarim Ahmed ": "76.62",
         "Ahmed Raza": "90.52",
         "Beenish": "92.4",
         "Burhan Ali": "0.0",
         "Fahad Mehmood": "10",
         "Fahad Sajjad": "96.47",
         "Ghulam Ali  ": "0.0",
         "Hamza": "33.08",
         "Hamza Iftikhar ": "10",
         "Jamshed Iqbal": "93.35",
         "Mohsin Najam": "91.15",
         "Mohtashim Ali": "10",
         "Muhammad Abdullah Habib": "38.15",
         "Muhammad Awais ": "10",
         "Muhammad Ukkasha": "92.77",
         "Muneeb": "77.3",
         "Nasreen": "92.15",
         "Retention Rates": "88.0",
         "Sanawar Shahzad ": "0.0",
         "Shuja Ali Saleemuddin": "89.9",
         "Waleed Ahmad": "93.63",
         "Waqas Rahman": "90.62",
         "_deepnote_index_column": "Mar 27",
         "shahab": "69.02"
        },
        {
         "Abdul Haseeb": "106.5",
         "Abdul Qudoos": "10",
         "Abdulkarim Ahmed ": "10",
         "Ahmed Raza": "110.3",
         "Beenish": "94.7",
         "Burhan Ali": "0.0",
         "Fahad Mehmood": "72.42",
         "Fahad Sajjad": "90.92",
         "Ghulam Ali  ": "0.0",
         "Hamza": "61.17",
         "Hamza Iftikhar ": "64.25",
         "Jamshed Iqbal": "109.47",
         "Mohsin Najam": "112.37",
         "Mohtashim Ali": "113.32",
         "Muhammad Abdullah Habib": "0.0",
         "Muhammad Awais ": "10",
         "Muhammad Ukkasha": "108.35",
         "Muneeb": "102.58",
         "Nasreen": "114.63",
         "Retention Rates": "79.0",
         "Sanawar Shahzad ": "0.0",
         "Shuja Ali Saleemuddin": "0.0",
         "Waleed Ahmad": "10.8",
         "Waqas Rahman": "106.75",
         "_deepnote_index_column": "Apr 2",
         "shahab": "133.92"
        },
        {
         "Abdul Haseeb": "94.5",
         "Abdul Qudoos": "30.83",
         "Abdulkarim Ahmed ": "78.17",
         "Ahmed Raza": "113.45",
         "Beenish": "113.28",
         "Burhan Ali": "0.0",
         "Fahad Mehmood": "19.25",
         "Fahad Sajjad": "15.13",
         "Ghulam Ali  ": "0.0",
         "Hamza": "10",
         "Hamza Iftikhar ": "108.5",
         "Jamshed Iqbal": "109.25",
         "Mohsin Najam": "107.67",
         "Mohtashim Ali": "109.87",
         "Muhammad Abdullah Habib": "0.0",
         "Muhammad Awais ": "26.3",
         "Muhammad Ukkasha": "102.93",
         "Muneeb": "10",
         "Nasreen": "119.45",
         "Retention Rates": "79.0",
         "Sanawar Shahzad ": "0.0",
         "Shuja Ali Saleemuddin": "0.0",
         "Waleed Ahmad": "105.23",
         "Waqas Rahman": "120.38",
         "_deepnote_index_column": "Apr 3",
         "shahab": "116.33"
        },
        {
         "Abdul Haseeb": "113.33",
         "Abdul Qudoos": "10",
         "Abdulkarim Ahmed ": "96.72",
         "Ahmed Raza": "96.22",
         "Beenish": "115.22",
         "Burhan Ali": "0.0",
         "Fahad Mehmood": "19.27",
         "Fahad Sajjad": "103.02",
         "Ghulam Ali  ": "0.0",
         "Hamza": "37.48",
         "Hamza Iftikhar ": "104.47",
         "Jamshed Iqbal": "104.83",
         "Mohsin Najam": "112.67",
         "Mohtashim Ali": "112.93",
         "Muhammad Abdullah Habib": "0.0",
         "Muhammad Awais ": "0.0",
         "Muhammad Ukkasha": "10",
         "Muneeb": "111.33",
         "Nasreen": "45.95",
         "Retention Rates": "75.0",
         "Sanawar Shahzad ": "0.0",
         "Shuja Ali Saleemuddin": "0.0",
         "Waleed Ahmad": "114.72",
         "Waqas Rahman": "109.67",
         "_deepnote_index_column": "Apr 9",
         "shahab": "102.55"
        },
        {
         "Abdul Haseeb": "94.83",
         "Abdul Qudoos": "12.17",
         "Abdulkarim Ahmed ": "10",
         "Ahmed Raza": "97.75",
         "Beenish": "109.0",
         "Burhan Ali": "0.0",
         "Fahad Mehmood": "0.0",
         "Fahad Sajjad": "57.23",
         "Ghulam Ali  ": "0.0",
         "Hamza": "87.25",
         "Hamza Iftikhar ": "10",
         "Jamshed Iqbal": "89.22",
         "Mohsin Najam": "83.15",
         "Mohtashim Ali": "111.65",
         "Muhammad Abdullah Habib": "0.0",
         "Muhammad Awais ": "0.0",
         "Muhammad Ukkasha": "71.98",
         "Muneeb": "103.17",
         "Nasreen": "113.58",
         "Retention Rates": "71.0",
         "Sanawar Shahzad ": "0.0",
         "Shuja Ali Saleemuddin": "0.0",
         "Waleed Ahmad": "113.03",
         "Waqas Rahman": "108.93",
         "_deepnote_index_column": "Apr 10",
         "shahab": "110.58"
        },
        {
         "Abdul Haseeb": "94.92",
         "Abdul Qudoos": "10.43",
         "Abdulkarim Ahmed ": "104.72",
         "Ahmed Raza": "99.65",
         "Beenish": "116.25",
         "Burhan Ali": "0.0",
         "Fahad Mehmood": "0.0",
         "Fahad Sajjad": "10.0",
         "Ghulam Ali  ": "0.0",
         "Hamza": "26.75",
         "Hamza Iftikhar ": "127.0",
         "Jamshed Iqbal": "95.18",
         "Mohsin Najam": "10.0",
         "Mohtashim Ali": "116.53",
         "Muhammad Abdullah Habib": "0.0",
         "Muhammad Awais ": "0.0",
         "Muhammad Ukkasha": "49.6",
         "Muneeb": "109.92",
         "Nasreen": "117.92",
         "Retention Rates": "71.0",
         "Sanawar Shahzad ": "0.0",
         "Shuja Ali Saleemuddin": "0.0",
         "Waleed Ahmad": "94.08",
         "Waqas Rahman": "116.08",
         "_deepnote_index_column": "Apr 17",
         "shahab": "128.85"
        }
       ]
      },
      "text/html": [
       "<div>\n",
       "<style scoped>\n",
       "    .dataframe tbody tr th:only-of-type {\n",
       "        vertical-align: middle;\n",
       "    }\n",
       "\n",
       "    .dataframe tbody tr th {\n",
       "        vertical-align: top;\n",
       "    }\n",
       "\n",
       "    .dataframe thead th {\n",
       "        text-align: right;\n",
       "    }\n",
       "</style>\n",
       "<table border=\"1\" class=\"dataframe\">\n",
       "  <thead>\n",
       "    <tr style=\"text-align: right;\">\n",
       "      <th>Names</th>\n",
       "      <th>Mohtashim Ali</th>\n",
       "      <th>Muneeb</th>\n",
       "      <th>Nasreen</th>\n",
       "      <th>Abdul Haseeb</th>\n",
       "      <th>Mohsin Najam</th>\n",
       "      <th>Hamza</th>\n",
       "      <th>Waqas Rahman</th>\n",
       "      <th>Abdul Qudoos</th>\n",
       "      <th>Beenish</th>\n",
       "      <th>Ahmed Raza</th>\n",
       "      <th>...</th>\n",
       "      <th>Ghulam Ali</th>\n",
       "      <th>Abdulkarim Ahmed</th>\n",
       "      <th>Muhammad Awais</th>\n",
       "      <th>Sanawar Shahzad</th>\n",
       "      <th>Hamza Iftikhar</th>\n",
       "      <th>Waleed Ahmad</th>\n",
       "      <th>Jamshed Iqbal</th>\n",
       "      <th>Muhammad Abdullah Habib</th>\n",
       "      <th>Shuja Ali Saleemuddin</th>\n",
       "      <th>Retention Rates</th>\n",
       "    </tr>\n",
       "  </thead>\n",
       "  <tbody>\n",
       "    <tr>\n",
       "      <th>Mar 19</th>\n",
       "      <td>27.92</td>\n",
       "      <td>10</td>\n",
       "      <td>27.13</td>\n",
       "      <td>16.58</td>\n",
       "      <td>20.75</td>\n",
       "      <td>27.85</td>\n",
       "      <td>23.23</td>\n",
       "      <td>34.35</td>\n",
       "      <td>18.72</td>\n",
       "      <td>18.33</td>\n",
       "      <td>...</td>\n",
       "      <td>23.83</td>\n",
       "      <td>10</td>\n",
       "      <td>10</td>\n",
       "      <td>10.63</td>\n",
       "      <td>22.17</td>\n",
       "      <td>10</td>\n",
       "      <td>10</td>\n",
       "      <td>10</td>\n",
       "      <td>10</td>\n",
       "      <td>100.0</td>\n",
       "    </tr>\n",
       "    <tr>\n",
       "      <th>Mar 20</th>\n",
       "      <td>16.33</td>\n",
       "      <td>79.53</td>\n",
       "      <td>92.83</td>\n",
       "      <td>10</td>\n",
       "      <td>86.95</td>\n",
       "      <td>24.43</td>\n",
       "      <td>30.83</td>\n",
       "      <td>34.4</td>\n",
       "      <td>30.55</td>\n",
       "      <td>83.85</td>\n",
       "      <td>...</td>\n",
       "      <td>0.0</td>\n",
       "      <td>10</td>\n",
       "      <td>10</td>\n",
       "      <td>0.0</td>\n",
       "      <td>10</td>\n",
       "      <td>10</td>\n",
       "      <td>10</td>\n",
       "      <td>10</td>\n",
       "      <td>10</td>\n",
       "      <td>92.0</td>\n",
       "    </tr>\n",
       "    <tr>\n",
       "      <th>Mar 26</th>\n",
       "      <td>97.27</td>\n",
       "      <td>103.55</td>\n",
       "      <td>113.8</td>\n",
       "      <td>95.27</td>\n",
       "      <td>118.02</td>\n",
       "      <td>123.1</td>\n",
       "      <td>104.02</td>\n",
       "      <td>101.67</td>\n",
       "      <td>110.12</td>\n",
       "      <td>129.08</td>\n",
       "      <td>...</td>\n",
       "      <td>0.0</td>\n",
       "      <td>89.18</td>\n",
       "      <td>10</td>\n",
       "      <td>0.0</td>\n",
       "      <td>10</td>\n",
       "      <td>110.57</td>\n",
       "      <td>97.53</td>\n",
       "      <td>10</td>\n",
       "      <td>10</td>\n",
       "      <td>88.0</td>\n",
       "    </tr>\n",
       "    <tr>\n",
       "      <th>Mar 27</th>\n",
       "      <td>10</td>\n",
       "      <td>77.3</td>\n",
       "      <td>92.15</td>\n",
       "      <td>10.83</td>\n",
       "      <td>91.15</td>\n",
       "      <td>33.08</td>\n",
       "      <td>90.62</td>\n",
       "      <td>59.6</td>\n",
       "      <td>92.4</td>\n",
       "      <td>90.52</td>\n",
       "      <td>...</td>\n",
       "      <td>0.0</td>\n",
       "      <td>76.62</td>\n",
       "      <td>10</td>\n",
       "      <td>0.0</td>\n",
       "      <td>10</td>\n",
       "      <td>93.63</td>\n",
       "      <td>93.35</td>\n",
       "      <td>38.15</td>\n",
       "      <td>89.9</td>\n",
       "      <td>88.0</td>\n",
       "    </tr>\n",
       "    <tr>\n",
       "      <th>Apr 2</th>\n",
       "      <td>113.32</td>\n",
       "      <td>102.58</td>\n",
       "      <td>114.63</td>\n",
       "      <td>106.5</td>\n",
       "      <td>112.37</td>\n",
       "      <td>61.17</td>\n",
       "      <td>106.75</td>\n",
       "      <td>10</td>\n",
       "      <td>94.7</td>\n",
       "      <td>110.3</td>\n",
       "      <td>...</td>\n",
       "      <td>0.0</td>\n",
       "      <td>10</td>\n",
       "      <td>10</td>\n",
       "      <td>0.0</td>\n",
       "      <td>64.25</td>\n",
       "      <td>10.8</td>\n",
       "      <td>109.47</td>\n",
       "      <td>0.0</td>\n",
       "      <td>0.0</td>\n",
       "      <td>79.0</td>\n",
       "    </tr>\n",
       "    <tr>\n",
       "      <th>Apr 3</th>\n",
       "      <td>109.87</td>\n",
       "      <td>10</td>\n",
       "      <td>119.45</td>\n",
       "      <td>94.5</td>\n",
       "      <td>107.67</td>\n",
       "      <td>10</td>\n",
       "      <td>120.38</td>\n",
       "      <td>30.83</td>\n",
       "      <td>113.28</td>\n",
       "      <td>113.45</td>\n",
       "      <td>...</td>\n",
       "      <td>0.0</td>\n",
       "      <td>78.17</td>\n",
       "      <td>26.3</td>\n",
       "      <td>0.0</td>\n",
       "      <td>108.5</td>\n",
       "      <td>105.23</td>\n",
       "      <td>109.25</td>\n",
       "      <td>0.0</td>\n",
       "      <td>0.0</td>\n",
       "      <td>79.0</td>\n",
       "    </tr>\n",
       "    <tr>\n",
       "      <th>Apr 9</th>\n",
       "      <td>112.93</td>\n",
       "      <td>111.33</td>\n",
       "      <td>45.95</td>\n",
       "      <td>113.33</td>\n",
       "      <td>112.67</td>\n",
       "      <td>37.48</td>\n",
       "      <td>109.67</td>\n",
       "      <td>10</td>\n",
       "      <td>115.22</td>\n",
       "      <td>96.22</td>\n",
       "      <td>...</td>\n",
       "      <td>0.0</td>\n",
       "      <td>96.72</td>\n",
       "      <td>0.0</td>\n",
       "      <td>0.0</td>\n",
       "      <td>104.47</td>\n",
       "      <td>114.72</td>\n",
       "      <td>104.83</td>\n",
       "      <td>0.0</td>\n",
       "      <td>0.0</td>\n",
       "      <td>75.0</td>\n",
       "    </tr>\n",
       "    <tr>\n",
       "      <th>Apr 10</th>\n",
       "      <td>111.65</td>\n",
       "      <td>103.17</td>\n",
       "      <td>113.58</td>\n",
       "      <td>94.83</td>\n",
       "      <td>83.15</td>\n",
       "      <td>87.25</td>\n",
       "      <td>108.93</td>\n",
       "      <td>12.17</td>\n",
       "      <td>109.0</td>\n",
       "      <td>97.75</td>\n",
       "      <td>...</td>\n",
       "      <td>0.0</td>\n",
       "      <td>10</td>\n",
       "      <td>0.0</td>\n",
       "      <td>0.0</td>\n",
       "      <td>10</td>\n",
       "      <td>113.03</td>\n",
       "      <td>89.22</td>\n",
       "      <td>0.0</td>\n",
       "      <td>0.0</td>\n",
       "      <td>71.0</td>\n",
       "    </tr>\n",
       "    <tr>\n",
       "      <th>Apr 17</th>\n",
       "      <td>116.53</td>\n",
       "      <td>109.92</td>\n",
       "      <td>117.92</td>\n",
       "      <td>94.92</td>\n",
       "      <td>10.0</td>\n",
       "      <td>26.75</td>\n",
       "      <td>116.08</td>\n",
       "      <td>10.43</td>\n",
       "      <td>116.25</td>\n",
       "      <td>99.65</td>\n",
       "      <td>...</td>\n",
       "      <td>0.0</td>\n",
       "      <td>104.72</td>\n",
       "      <td>0.0</td>\n",
       "      <td>0.0</td>\n",
       "      <td>127.0</td>\n",
       "      <td>94.08</td>\n",
       "      <td>95.18</td>\n",
       "      <td>0.0</td>\n",
       "      <td>0.0</td>\n",
       "      <td>71.0</td>\n",
       "    </tr>\n",
       "  </tbody>\n",
       "</table>\n",
       "<p>9 rows × 25 columns</p>\n",
       "</div>"
      ],
      "text/plain": [
       "Names  Mohtashim Ali  Muneeb Nasreen Abdul Haseeb Mohsin Najam  Hamza  \\\n",
       "Mar 19         27.92      10   27.13        16.58        20.75  27.85   \n",
       "Mar 20         16.33   79.53   92.83           10        86.95  24.43   \n",
       "Mar 26         97.27  103.55   113.8        95.27       118.02  123.1   \n",
       "Mar 27            10    77.3   92.15        10.83        91.15  33.08   \n",
       "Apr 2         113.32  102.58  114.63        106.5       112.37  61.17   \n",
       "Apr 3         109.87      10  119.45         94.5       107.67     10   \n",
       "Apr 9         112.93  111.33   45.95       113.33       112.67  37.48   \n",
       "Apr 10        111.65  103.17  113.58        94.83        83.15  87.25   \n",
       "Apr 17        116.53  109.92  117.92        94.92         10.0  26.75   \n",
       "\n",
       "Names  Waqas Rahman Abdul Qudoos Beenish Ahmed Raza  ... Ghulam Ali    \\\n",
       "Mar 19        23.23        34.35   18.72      18.33  ...        23.83   \n",
       "Mar 20        30.83         34.4   30.55      83.85  ...          0.0   \n",
       "Mar 26       104.02       101.67  110.12     129.08  ...          0.0   \n",
       "Mar 27        90.62         59.6    92.4      90.52  ...          0.0   \n",
       "Apr 2        106.75           10    94.7      110.3  ...          0.0   \n",
       "Apr 3        120.38        30.83  113.28     113.45  ...          0.0   \n",
       "Apr 9        109.67           10  115.22      96.22  ...          0.0   \n",
       "Apr 10       108.93        12.17   109.0      97.75  ...          0.0   \n",
       "Apr 17       116.08        10.43  116.25      99.65  ...          0.0   \n",
       "\n",
       "Names  Abdulkarim Ahmed  Muhammad Awais  Sanawar Shahzad  Hamza Iftikhar   \\\n",
       "Mar 19                10              10            10.63           22.17   \n",
       "Mar 20                10              10              0.0              10   \n",
       "Mar 26             89.18              10              0.0              10   \n",
       "Mar 27             76.62              10              0.0              10   \n",
       "Apr 2                 10              10              0.0           64.25   \n",
       "Apr 3              78.17            26.3              0.0           108.5   \n",
       "Apr 9              96.72             0.0              0.0          104.47   \n",
       "Apr 10                10             0.0              0.0              10   \n",
       "Apr 17            104.72             0.0              0.0           127.0   \n",
       "\n",
       "Names  Waleed Ahmad Jamshed Iqbal Muhammad Abdullah Habib  \\\n",
       "Mar 19           10            10                      10   \n",
       "Mar 20           10            10                      10   \n",
       "Mar 26       110.57         97.53                      10   \n",
       "Mar 27        93.63         93.35                   38.15   \n",
       "Apr 2          10.8        109.47                     0.0   \n",
       "Apr 3        105.23        109.25                     0.0   \n",
       "Apr 9        114.72        104.83                     0.0   \n",
       "Apr 10       113.03         89.22                     0.0   \n",
       "Apr 17        94.08         95.18                     0.0   \n",
       "\n",
       "Names  Shuja Ali Saleemuddin Retention Rates  \n",
       "Mar 19                    10           100.0  \n",
       "Mar 20                    10            92.0  \n",
       "Mar 26                    10            88.0  \n",
       "Mar 27                  89.9            88.0  \n",
       "Apr 2                    0.0            79.0  \n",
       "Apr 3                    0.0            79.0  \n",
       "Apr 9                    0.0            75.0  \n",
       "Apr 10                   0.0            71.0  \n",
       "Apr 17                   0.0            71.0  \n",
       "\n",
       "[9 rows x 25 columns]"
      ]
     },
     "execution_count": 13,
     "metadata": {},
     "output_type": "execute_result"
    }
   ],
   "source": [
    "data_frame_T"
   ]
  },
  {
   "cell_type": "code",
   "execution_count": 14,
   "metadata": {
    "cell_id": "b2680528d1a944389733ea007b386d2b",
    "deepnote_app_coordinates": {
     "h": 5,
     "w": 12,
     "x": 0,
     "y": 109
    },
    "deepnote_cell_type": "code",
    "deepnote_to_be_reexecuted": false,
    "execution_millis": 2,
    "execution_start": 1677998029931,
    "source_hash": "853015f3",
    "tags": []
   },
   "outputs": [
    {
     "data": {
      "text/plain": [
       "Mar 19    100.0\n",
       "Mar 20     92.0\n",
       "Mar 26     88.0\n",
       "Mar 27     88.0\n",
       "Apr 2      79.0\n",
       "Apr 3      79.0\n",
       "Apr 9      75.0\n",
       "Apr 10     71.0\n",
       "Apr 17     71.0\n",
       "Name: Retention Rates, dtype: float64"
      ]
     },
     "execution_count": 14,
     "metadata": {},
     "output_type": "execute_result"
    }
   ],
   "source": [
    "data_frame_T.iloc[:, 24]"
   ]
  },
  {
   "cell_type": "code",
   "execution_count": 15,
   "metadata": {
    "cell_id": "2de4f275895141e99c5cb45b5abe42d6",
    "deepnote_app_coordinates": {
     "h": 5,
     "w": 12,
     "x": 0,
     "y": 0
    },
    "deepnote_cell_type": "code",
    "deepnote_to_be_reexecuted": false,
    "execution_millis": 276,
    "execution_start": 1677998029932,
    "source_hash": "dbe51c07",
    "tags": []
   },
   "outputs": [
    {
     "data": {
      "image/png": "[encoded data removed]",
      "text/plain": [
       "<Figure size 1200x600 with 1 Axes>"
      ]
     },
     "metadata": {
      "image/png": {
       "height": 585,
       "width": 1131
      }
     },
     "output_type": "display_data"
    }
   ],
   "source": [
    "# Set figure size and style\n",
    "sns.set_style(\"whitegrid\")\n",
    "plt.figure(figsize=(12, 6))\n",
    "\n",
    "# Plot the data\n",
    "plt.plot(data_frame_T.iloc[:, 24], linewidth=2.5, color=\"#1f77b4\")\n",
    "\n",
    "# Add title and labels\n",
    "plt.title(\"Churn Rate: Cohort Web Dev\", fontsize=20, fontweight=\"bold\")\n",
    "plt.xlabel(\"Date\", fontsize=16)\n",
    "plt.ylabel(\"Percentage\", fontsize=16)\n",
    "\n",
    "# Set ticks and grid\n",
    "plt.xticks(fontsize=14)\n",
    "plt.yticks(fontsize=14)\n",
    "plt.grid(True, color=\"gray\", linestyle=\":\", linewidth=0.5)\n",
    "\n",
    "\n",
    "# Show plot\n",
    "plt.show()\n"
   ]
  },
  {
   "cell_type": "code",
   "execution_count": 16,
   "metadata": {
    "cell_id": "a3f898ddd5de425b88d7aea6502751a2",
    "deepnote_app_coordinates": {
     "h": 5,
     "w": 12,
     "x": 0,
     "y": 0
    },
    "deepnote_cell_type": "code",
    "deepnote_to_be_reexecuted": false,
    "execution_millis": 19,
    "execution_start": 1677998030190,
    "source_hash": "b623e53d",
    "tags": []
   },
   "outputs": [],
   "source": []
  },
  {
   "cell_type": "markdown",
   "metadata": {
    "created_in_deepnote_cell": true,
    "deepnote_cell_type": "markdown",
    "tags": []
   },
   "source": [
    "<a style='text-decoration:none;line-height:16px;display:flex;color:#5B5B62;padding:10px;justify-content:end;' href='https://deepnote.com?utm_source=created-in-deepnote-cell&projectId=95db66e3-2b53-4763-a669-103fa6da0111' target=\"_blank\">\n",
    "<img alt='Created in deepnote.com' style='display:inline;max-height:16px;margin:0px;margin-right:7.5px;' src='data:image/svg+xml;base64,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' > </img>\n",
    "Created in <span style='font-weight:600;margin-left:4px;'>Deepnote</span></a>"
   ]
  }
 ],
 "metadata": {
  "deepnote": {},
  "deepnote_app_layout": "article",
  "deepnote_execution_queue": [],
  "deepnote_notebook_id": "e8eeeb34d94549dd9b2d571298a28c96",
  "deepnote_persisted_session": {
   "createdAt": "2023-03-04T22:31:30.567Z"
  },
  "kernelspec": {
   "display_name": "Python 3 (ipykernel)",
   "language": "python",
   "name": "python3"
  },
  "language_info": {
   "codemirror_mode": {
    "name": "ipython",
    "version": 3
   },
   "file_extension": ".py",
   "mimetype": "text/x-python",
   "name": "python",
   "nbconvert_exporter": "python",
   "pygments_lexer": "ipython3",
   "version": "3.9.7"
  }
 },
 "nbformat": 4,
 "nbformat_minor": 1
}
